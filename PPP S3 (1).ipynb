{
 "cells": [
  {
   "cell_type": "code",
   "execution_count": 1,
   "id": "929c15ba",
   "metadata": {},
   "outputs": [],
   "source": [
    "#Notes\n",
    "# if x is continuous(make scatter)(correlation)\n",
    "# if categorical (groupby aggregate)(sidebyside box plot)(check for central tendency)\n",
    "# report:which variable is impacting price\n",
    "# are there correlation,how would you deal with them"
   ]
  },
  {
   "cell_type": "markdown",
   "id": "11c34253",
   "metadata": {},
   "source": [
    "30112022_try:   \n",
    "bedroom ,bathroom -sqrt transform  \n",
    "price-log transform  \n",
    "develop new feature -age of house,with/without basement(0&1)  \n",
    "exponential transform - for very small values  \n",
    "\n",
    "record  \n",
    "r2  \n",
    "train error  \n",
    "validation error  \n"
   ]
  },
  {
   "cell_type": "markdown",
   "id": "e962a4e7",
   "metadata": {},
   "source": []
  },
  {
   "cell_type": "markdown",
   "id": "f80eeb9d",
   "metadata": {},
   "source": [
    "#### 1. IMPORTING LIBRARIES"
   ]
  },
  {
   "cell_type": "code",
   "execution_count": 2,
   "id": "97dd5b7d",
   "metadata": {},
   "outputs": [],
   "source": [
    "import pandas as pd\n",
    "import matplotlib.pyplot as plt\n",
    "import seaborn as sns\n",
    "import numpy as np\n",
    "import math\n",
    "\n",
    "import warnings\n",
    "warnings.filterwarnings(\"ignore\")"
   ]
  },
  {
   "cell_type": "markdown",
   "id": "8eb69781",
   "metadata": {},
   "source": [
    "#### 2. READING THE FILE"
   ]
  },
  {
   "cell_type": "code",
   "execution_count": 3,
   "id": "372cf2ec",
   "metadata": {},
   "outputs": [
    {
     "data": {
      "text/plain": [
       "21"
      ]
     },
     "execution_count": 3,
     "metadata": {},
     "output_type": "execute_result"
    }
   ],
   "source": [
    "data = pd.read_csv(r'C:\\Users\\Al barak\\Downloads\\kc_house_data.csv')\n",
    "data.columns.value_counts().sum()"
   ]
  },
  {
   "cell_type": "markdown",
   "id": "5d753f89",
   "metadata": {},
   "source": [
    "#### 3. MAKING A COPY OF ORIGINAL DATASET TO WORKON"
   ]
  },
  {
   "cell_type": "code",
   "execution_count": 4,
   "id": "1a93c898",
   "metadata": {},
   "outputs": [],
   "source": [
    "data1 = data.copy()"
   ]
  },
  {
   "cell_type": "markdown",
   "id": "6ac873ce",
   "metadata": {},
   "source": [
    "#### 4. INFORMATION ABOUT THE DATASET"
   ]
  },
  {
   "cell_type": "code",
   "execution_count": 5,
   "id": "d9814319",
   "metadata": {
    "scrolled": true
   },
   "outputs": [
    {
     "name": "stdout",
     "output_type": "stream",
     "text": [
      "<class 'pandas.core.frame.DataFrame'>\n",
      "RangeIndex: 21613 entries, 0 to 21612\n",
      "Data columns (total 21 columns):\n",
      " #   Column         Non-Null Count  Dtype  \n",
      "---  ------         --------------  -----  \n",
      " 0   id             21613 non-null  int64  \n",
      " 1   date           21613 non-null  object \n",
      " 2   price          21613 non-null  float64\n",
      " 3   bedrooms       21613 non-null  int64  \n",
      " 4   bathrooms      21613 non-null  float64\n",
      " 5   sqft_living    21613 non-null  int64  \n",
      " 6   sqft_lot       21613 non-null  int64  \n",
      " 7   floors         21613 non-null  float64\n",
      " 8   waterfront     21613 non-null  int64  \n",
      " 9   view           21613 non-null  int64  \n",
      " 10  condition      21613 non-null  int64  \n",
      " 11  grade          21613 non-null  int64  \n",
      " 12  sqft_above     21611 non-null  float64\n",
      " 13  sqft_basement  21613 non-null  int64  \n",
      " 14  yr_built       21613 non-null  int64  \n",
      " 15  yr_renovated   21613 non-null  int64  \n",
      " 16  zipcode        21613 non-null  int64  \n",
      " 17  lat            21613 non-null  float64\n",
      " 18  long           21613 non-null  float64\n",
      " 19  sqft_living15  21613 non-null  int64  \n",
      " 20  sqft_lot15     21613 non-null  int64  \n",
      "dtypes: float64(6), int64(14), object(1)\n",
      "memory usage: 3.5+ MB\n"
     ]
    }
   ],
   "source": [
    "data1.info()"
   ]
  },
  {
   "cell_type": "markdown",
   "id": "08750c76",
   "metadata": {},
   "source": [
    "| Variable      | Description                                                                                                 |\n",
    "| ------------- | ----------------------------------------------------------------------------------------------------------- |\n",
    "| id            | A notation for a house                                                                                      |\n",
    "| date          | Date house was sold                                                                                         |\n",
    "| price         | Price is prediction target                                                                                  |\n",
    "| bedrooms      | Number of bedrooms                                                                                          |\n",
    "| bathrooms     | Number of bathrooms                                                                                         |\n",
    "| sqft_living   | Square footage of the home                                                                                  |\n",
    "| sqft_lot      | Square footage of the lot                                                                                   |\n",
    "| floors        | Total floors (levels) in house                                                                              |\n",
    "| waterfront    | House which has a view to a waterfront                                                                      |\n",
    "| view          | Has been viewed                                                                                             |\n",
    "| condition     | How good the condition is overall                                                                           |\n",
    "| grade         | overall grade given to the housing unit, based on King County grading system                                |\n",
    "| sqft_above    | Square footage of house apart from basement                                                                 |\n",
    "| sqft_basement | Square footage of the basement                                                                              |\n",
    "| yr_built      | Built Year                                                                                                  |\n",
    "| yr_renovated  | Year when house was renovated                                                                               |\n",
    "| zipcode       | Zip code                                                                                                    |\n",
    "| lat           | Latitude coordinate                                                                                         |\n",
    "| long          | Longitude coordinate                                                                                        |\n",
    "| sqft_living15 | Living room area in 2015(implies-- some renovations) This might or might not have affected the lotsize area |\n",
    "| sqft_lot15    | LotSize area in 2015(implies-- some renovations)                                                            |\n"
   ]
  },
  {
   "cell_type": "markdown",
   "id": "9d021180",
   "metadata": {},
   "source": [
    "#### 5.SPLITTING THE DATASET"
   ]
  },
  {
   "cell_type": "code",
   "execution_count": 6,
   "id": "82ded06f",
   "metadata": {},
   "outputs": [],
   "source": [
    "# splitting data\n",
    "from sklearn.model_selection import train_test_split\n",
    "from sklearn.linear_model import LinearRegression"
   ]
  },
  {
   "cell_type": "code",
   "execution_count": 7,
   "id": "36745a18",
   "metadata": {},
   "outputs": [],
   "source": [
    "# Specifying Independent and Target Variable\n",
    "X = data1.drop(\"price\",axis=1)\n",
    "y = data1[\"price\"]"
   ]
  },
  {
   "cell_type": "code",
   "execution_count": 8,
   "id": "25dd27ff",
   "metadata": {},
   "outputs": [
    {
     "data": {
      "text/plain": [
       "(21613, 21)"
      ]
     },
     "execution_count": 8,
     "metadata": {},
     "output_type": "execute_result"
    }
   ],
   "source": [
    "# Shape \n",
    "data1.shape"
   ]
  },
  {
   "cell_type": "code",
   "execution_count": 9,
   "id": "af6b930b",
   "metadata": {},
   "outputs": [],
   "source": [
    "#Split raw_data to 70:30\n",
    "X_train,X_test,y_train,y_test = train_test_split(X,y,test_size=0.3,random_state =42)"
   ]
  },
  {
   "cell_type": "code",
   "execution_count": 10,
   "id": "2c9dfbf1",
   "metadata": {},
   "outputs": [
    {
     "name": "stdout",
     "output_type": "stream",
     "text": [
      "(15129, 20)\n",
      "(6484, 20)\n",
      "(15129,)\n",
      "(6484,)\n"
     ]
    }
   ],
   "source": [
    "#Shape of splited data\n",
    "print(X_train.shape)\n",
    "print(X_test.shape)\n",
    "print(y_train.shape)\n",
    "print(y_test.shape)"
   ]
  },
  {
   "cell_type": "markdown",
   "id": "88dc30fe",
   "metadata": {},
   "source": [
    "#### 6.CONCATING THE TRAIN DATA FOR EASINESS OF EDA"
   ]
  },
  {
   "cell_type": "code",
   "execution_count": 11,
   "id": "4bfb0a3f",
   "metadata": {},
   "outputs": [
    {
     "data": {
      "text/plain": [
       "(15129, 21)"
      ]
     },
     "execution_count": 11,
     "metadata": {},
     "output_type": "execute_result"
    }
   ],
   "source": [
    "# Combining X_train,y_train for easiness of EDA\n",
    "t_y = pd.DataFrame(y_train)\n",
    "Xy_train = pd.concat([X_train,t_y],axis=1,join= \"inner\")\n",
    "Xy_train.shape"
   ]
  },
  {
   "cell_type": "markdown",
   "id": "4030f002",
   "metadata": {},
   "source": [
    "#### 7. EXPLORATORY DATA ANALYSIS"
   ]
  },
  {
   "cell_type": "code",
   "execution_count": 12,
   "id": "22851f19",
   "metadata": {},
   "outputs": [
    {
     "data": {
      "text/plain": [
       "Index(['id', 'date', 'bedrooms', 'bathrooms', 'sqft_living', 'sqft_lot',\n",
       "       'floors', 'waterfront', 'view', 'condition', 'grade', 'sqft_above',\n",
       "       'sqft_basement', 'yr_built', 'yr_renovated', 'zipcode', 'lat', 'long',\n",
       "       'sqft_living15', 'sqft_lot15', 'price'],\n",
       "      dtype='object')"
      ]
     },
     "execution_count": 12,
     "metadata": {},
     "output_type": "execute_result"
    }
   ],
   "source": [
    "Xy_train.columns"
   ]
  },
  {
   "cell_type": "markdown",
   "id": "97e310c3",
   "metadata": {},
   "source": [
    "#### 7a.UNIVARIATE ANALYSIS"
   ]
  },
  {
   "cell_type": "markdown",
   "id": "5dd2ecf4",
   "metadata": {},
   "source": [
    "##### <U>1.Count plot"
   ]
  },
  {
   "cell_type": "code",
   "execution_count": 13,
   "id": "f56b5718",
   "metadata": {},
   "outputs": [],
   "source": [
    "#Creating a function to make frequency plot\n",
    "def count_plot(var):\n",
    "    plt.figure(figsize=(6,3))\n",
    "    sns.countplot(data1[var],data = data1, palette='hls')\n",
    "    plt.xticks(rotation = 90)\n",
    "    plt.title(\"No of Houses\"+\" vs \"+var)\n",
    "    return (plt.show())"
   ]
  },
  {
   "cell_type": "code",
   "execution_count": 14,
   "id": "68071bb1",
   "metadata": {},
   "outputs": [
    {
     "data": {
      "image/png": "[encoded data removed]",
      "text/plain": [
       "<Figure size 432x216 with 1 Axes>"
      ]
     },
     "metadata": {
      "needs_background": "light"
     },
     "output_type": "display_data"
    },
    {
     "data": {
      "image/png": "[encoded data removed]",
      "text/plain": [
       "<Figure size 432x216 with 1 Axes>"
      ]
     },
     "metadata": {
      "needs_background": "light"
     },
     "output_type": "display_data"
    },
    {
     "data": {
      "image/png": "[encoded data removed]",
      "text/plain": [
       "<Figure size 432x216 with 1 Axes>"
      ]
     },
     "metadata": {
      "needs_background": "light"
     },
     "output_type": "display_data"
    },
    {
     "data": {
      "image/png": "[encoded data removed]",
      "text/plain": [
       "<Figure size 432x216 with 1 Axes>"
      ]
     },
     "metadata": {
      "needs_background": "light"
     },
     "output_type": "display_data"
    },
    {
     "data": {
      "image/png": "[encoded data removed]",
      "text/plain": [
       "<Figure size 432x216 with 1 Axes>"
      ]
     },
     "metadata": {
      "needs_background": "light"
     },
     "output_type": "display_data"
    },
    {
     "data": {
      "image/png": "[encoded data removed]",
      "text/plain": [
       "<Figure size 432x216 with 1 Axes>"
      ]
     },
     "metadata": {
      "needs_background": "light"
     },
     "output_type": "display_data"
    },
    {
     "data": {
      "image/png": "[encoded data removed]",
      "text/plain": [
       "<Figure size 432x216 with 1 Axes>"
      ]
     },
     "metadata": {
      "needs_background": "light"
     },
     "output_type": "display_data"
    },
    {
     "data": {
      "image/png": "[encoded data removed]",
      "text/plain": [
       "<Figure size 432x216 with 1 Axes>"
      ]
     },
     "metadata": {
      "needs_background": "light"
     },
     "output_type": "display_data"
    },
    {
     "data": {
      "image/png": "[encoded data removed]",
      "text/plain": [
       "<Figure size 432x216 with 1 Axes>"
      ]
     },
     "metadata": {
      "needs_background": "light"
     },
     "output_type": "display_data"
    },
    {
     "data": {
      "image/png": "[encoded data removed]",
      "text/plain": [
       "<Figure size 432x216 with 1 Axes>"
      ]
     },
     "metadata": {
      "needs_background": "light"
     },
     "output_type": "display_data"
    }
   ],
   "source": [
    "#Categorical and Discrete numerical for frequency plot\n",
    "cat_var = ['bedrooms','bathrooms','waterfront','floors','view','condition','grade','zipcode','yr_built','yr_renovated']\n",
    "for i in cat_var:\n",
    "    count_plot(i)"
   ]
  },
  {
   "cell_type": "markdown",
   "id": "d4b66494",
   "metadata": {},
   "source": [
    "##### <U> 2.Histogram"
   ]
  },
  {
   "cell_type": "code",
   "execution_count": 15,
   "id": "28ba2411",
   "metadata": {},
   "outputs": [],
   "source": [
    "#Frequency plot of Numerical Variables\n",
    "def hist(var):\n",
    "    plt.figure(figsize=(6,3))\n",
    "    sns.histplot(Xy_train[var])\n",
    "    plt.xticks(rotation = 90)\n",
    "    plt.title(\"Frequency Distribution \"+  var)\n",
    "    return (plt.show())"
   ]
  },
  {
   "cell_type": "code",
   "execution_count": 16,
   "id": "7f5efae1",
   "metadata": {},
   "outputs": [
    {
     "data": {
      "image/png": "[encoded data removed]",
      "text/plain": [
       "<Figure size 432x216 with 1 Axes>"
      ]
     },
     "metadata": {
      "needs_background": "light"
     },
     "output_type": "display_data"
    },
    {
     "data": {
      "image/png": "[encoded data removed]",
      "text/plain": [
       "<Figure size 432x216 with 1 Axes>"
      ]
     },
     "metadata": {
      "needs_background": "light"
     },
     "output_type": "display_data"
    },
    {
     "data": {
      "image/png": "[encoded data removed]",
      "text/plain": [
       "<Figure size 432x216 with 1 Axes>"
      ]
     },
     "metadata": {
      "needs_background": "light"
     },
     "output_type": "display_data"
    },
    {
     "data": {
      "image/png": "[encoded data removed]",
      "text/plain": [
       "<Figure size 432x216 with 1 Axes>"
      ]
     },
     "metadata": {
      "needs_background": "light"
     },
     "output_type": "display_data"
    },
    {
     "data": {
      "image/png": "[encoded data removed]",
      "text/plain": [
       "<Figure size 432x216 with 1 Axes>"
      ]
     },
     "metadata": {
      "needs_background": "light"
     },
     "output_type": "display_data"
    },
    {
     "data": {
      "image/png": "[encoded data removed]",
      "text/plain": [
       "<Figure size 432x216 with 1 Axes>"
      ]
     },
     "metadata": {
      "needs_background": "light"
     },
     "output_type": "display_data"
    },
    {
     "data": {
      "image/png": "[encoded data removed]",
      "text/plain": [
       "<Figure size 432x216 with 1 Axes>"
      ]
     },
     "metadata": {
      "needs_background": "light"
     },
     "output_type": "display_data"
    }
   ],
   "source": [
    "#Numerical variables from dataset\n",
    "Num_var = ['sqft_living','sqft_lot','sqft_above','sqft_basement','sqft_living15','sqft_lot15','price']\n",
    "for i in Num_var:\n",
    "    hist(i)"
   ]
  },
  {
   "cell_type": "markdown",
   "id": "20e0f9df",
   "metadata": {},
   "source": [
    "##### <u> 3.Box plot"
   ]
  },
  {
   "cell_type": "code",
   "execution_count": 17,
   "id": "f51088bf",
   "metadata": {},
   "outputs": [
    {
     "data": {
      "image/png": "[encoded data removed]",
      "text/plain": [
       "<Figure size 432x216 with 1 Axes>"
      ]
     },
     "metadata": {
      "needs_background": "light"
     },
     "output_type": "display_data"
    },
    {
     "data": {
      "image/png": "[encoded data removed]",
      "text/plain": [
       "<Figure size 432x216 with 1 Axes>"
      ]
     },
     "metadata": {
      "needs_background": "light"
     },
     "output_type": "display_data"
    },
    {
     "data": {
      "image/png": "[encoded data removed]",
      "text/plain": [
       "<Figure size 432x216 with 1 Axes>"
      ]
     },
     "metadata": {
      "needs_background": "light"
     },
     "output_type": "display_data"
    },
    {
     "data": {
      "image/png": "[encoded data removed]",
      "text/plain": [
       "<Figure size 432x216 with 1 Axes>"
      ]
     },
     "metadata": {
      "needs_background": "light"
     },
     "output_type": "display_data"
    },
    {
     "data": {
      "image/png": "[encoded data removed]",
      "text/plain": [
       "<Figure size 432x216 with 1 Axes>"
      ]
     },
     "metadata": {
      "needs_background": "light"
     },
     "output_type": "display_data"
    },
    {
     "data": {
      "image/png": "[encoded data removed]",
      "text/plain": [
       "<Figure size 432x216 with 1 Axes>"
      ]
     },
     "metadata": {
      "needs_background": "light"
     },
     "output_type": "display_data"
    },
    {
     "data": {
      "image/png": "[encoded data removed]",
      "text/plain": [
       "<Figure size 432x216 with 1 Axes>"
      ]
     },
     "metadata": {
      "needs_background": "light"
     },
     "output_type": "display_data"
    }
   ],
   "source": [
    "def box(var):\n",
    "    plt.figure(figsize=(6,3))\n",
    "    sns.boxplot(Xy_train[var])\n",
    "    plt.xticks(rotation = 90)\n",
    "    plt.title(\"Distribution \"+  var)\n",
    "    return (plt.show())\n",
    "\n",
    "Num_var = ['sqft_living','sqft_lot','sqft_above','sqft_basement','sqft_living15','sqft_lot15','price']\n",
    "for i in Num_var:\n",
    "    box(i)"
   ]
  },
  {
   "cell_type": "markdown",
   "id": "0ffdd74b",
   "metadata": {},
   "source": [
    "###### <U>INSIGHTS FROM UNIVARIATE:"
   ]
  },
  {
   "cell_type": "code",
   "execution_count": null,
   "id": "fe306c02",
   "metadata": {},
   "outputs": [],
   "source": []
  },
  {
   "cell_type": "code",
   "execution_count": null,
   "id": "8c9aac39",
   "metadata": {},
   "outputs": [],
   "source": []
  },
  {
   "cell_type": "markdown",
   "id": "85ab00e7",
   "metadata": {},
   "source": [
    "#### 7b.BIVARIATE & MULTIVARIATE ANALYSIS w.r.t TARGET VARIABLE \"PRICE\""
   ]
  },
  {
   "cell_type": "markdown",
   "id": "e83452cd",
   "metadata": {},
   "source": [
    "#####  <u>1.Overall Correlation plot showing the strength of relationship"
   ]
  },
  {
   "cell_type": "code",
   "execution_count": 18,
   "id": "95f587ee",
   "metadata": {},
   "outputs": [
    {
     "data": {
      "text/html": [
       "<style type=\"text/css\">\n",
       "#T_e5991_row0_col0, #T_e5991_row1_col1, #T_e5991_row2_col2, #T_e5991_row3_col3, #T_e5991_row4_col4, #T_e5991_row5_col5, #T_e5991_row6_col6, #T_e5991_row7_col7, #T_e5991_row8_col8, #T_e5991_row9_col9, #T_e5991_row10_col10, #T_e5991_row11_col11, #T_e5991_row12_col12, #T_e5991_row13_col13, #T_e5991_row14_col14, #T_e5991_row15_col15, #T_e5991_row16_col16, #T_e5991_row17_col17, #T_e5991_row18_col18, #T_e5991_row19_col19 {\n",
       "  background-color: #023858;\n",
       "  color: #f1f1f1;\n",
       "}\n",
       "#T_e5991_row0_col1, #T_e5991_row8_col13, #T_e5991_row13_col4, #T_e5991_row18_col7 {\n",
       "  background-color: #e9e5f1;\n",
       "  color: #000000;\n",
       "}\n",
       "#T_e5991_row0_col2, #T_e5991_row3_col15, #T_e5991_row5_col15, #T_e5991_row7_col4, #T_e5991_row13_col7 {\n",
       "  background-color: #e1dfed;\n",
       "  color: #000000;\n",
       "}\n",
       "#T_e5991_row0_col3, #T_e5991_row0_col9, #T_e5991_row4_col1, #T_e5991_row11_col10, #T_e5991_row11_col12, #T_e5991_row15_col12 {\n",
       "  background-color: #e4e1ef;\n",
       "  color: #000000;\n",
       "}\n",
       "#T_e5991_row0_col4, #T_e5991_row5_col11, #T_e5991_row8_col5, #T_e5991_row8_col12, #T_e5991_row12_col8, #T_e5991_row12_col13, #T_e5991_row12_col15, #T_e5991_row14_col1, #T_e5991_row14_col2, #T_e5991_row14_col3, #T_e5991_row14_col4, #T_e5991_row14_col9, #T_e5991_row14_col10, #T_e5991_row14_col16, #T_e5991_row14_col17, #T_e5991_row14_col18, #T_e5991_row14_col19, #T_e5991_row16_col6, #T_e5991_row16_col7, #T_e5991_row16_col14, #T_e5991_row16_col15, #T_e5991_row18_col0 {\n",
       "  background-color: #fff7fb;\n",
       "  color: #000000;\n",
       "}\n",
       "#T_e5991_row0_col5, #T_e5991_row2_col13, #T_e5991_row2_col14, #T_e5991_row3_col14, #T_e5991_row9_col15, #T_e5991_row9_col18 {\n",
       "  background-color: #d5d5e8;\n",
       "  color: #000000;\n",
       "}\n",
       "#T_e5991_row0_col6 {\n",
       "  background-color: #faf3f9;\n",
       "  color: #000000;\n",
       "}\n",
       "#T_e5991_row0_col7, #T_e5991_row8_col10, #T_e5991_row8_col19, #T_e5991_row12_col11, #T_e5991_row16_col11, #T_e5991_row16_col19 {\n",
       "  background-color: #f2ecf5;\n",
       "  color: #000000;\n",
       "}\n",
       "#T_e5991_row0_col8, #T_e5991_row15_col8, #T_e5991_row16_col1 {\n",
       "  background-color: #d1d2e6;\n",
       "  color: #000000;\n",
       "}\n",
       "#T_e5991_row0_col10, #T_e5991_row1_col13, #T_e5991_row4_col13, #T_e5991_row9_col13, #T_e5991_row19_col4 {\n",
       "  background-color: #dbdaeb;\n",
       "  color: #000000;\n",
       "}\n",
       "#T_e5991_row0_col11, #T_e5991_row2_col4, #T_e5991_row2_col18, #T_e5991_row18_col13, #T_e5991_row19_col18 {\n",
       "  background-color: #dcdaeb;\n",
       "  color: #000000;\n",
       "}\n",
       "#T_e5991_row0_col12, #T_e5991_row3_col18, #T_e5991_row6_col8 {\n",
       "  background-color: #c5cce3;\n",
       "  color: #000000;\n",
       "}\n",
       "#T_e5991_row0_col13, #T_e5991_row2_col8, #T_e5991_row13_col9, #T_e5991_row14_col5, #T_e5991_row17_col15 {\n",
       "  background-color: #e2dfee;\n",
       "  color: #000000;\n",
       "}\n",
       "#T_e5991_row0_col14, #T_e5991_row4_col10, #T_e5991_row11_col19, #T_e5991_row14_col15, #T_e5991_row16_col2, #T_e5991_row16_col18, #T_e5991_row18_col10 {\n",
       "  background-color: #acc0dd;\n",
       "  color: #000000;\n",
       "}\n",
       "#T_e5991_row0_col15, #T_e5991_row6_col1, #T_e5991_row8_col3, #T_e5991_row8_col18, #T_e5991_row10_col15, #T_e5991_row11_col0, #T_e5991_row14_col0, #T_e5991_row15_col0, #T_e5991_row15_col1, #T_e5991_row17_col0 {\n",
       "  background-color: #ede7f2;\n",
       "  color: #000000;\n",
       "}\n",
       "#T_e5991_row0_col16, #T_e5991_row11_col17 {\n",
       "  background-color: #a7bddb;\n",
       "  color: #000000;\n",
       "}\n",
       "#T_e5991_row0_col17, #T_e5991_row3_col8, #T_e5991_row7_col12, #T_e5991_row13_col3, #T_e5991_row13_col5 {\n",
       "  background-color: #d7d6e9;\n",
       "  color: #000000;\n",
       "}\n",
       "#T_e5991_row0_col18, #T_e5991_row4_col0, #T_e5991_row12_col6 {\n",
       "  background-color: #fef6fb;\n",
       "  color: #000000;\n",
       "}\n",
       "#T_e5991_row0_col19 {\n",
       "  background-color: #faf2f8;\n",
       "  color: #000000;\n",
       "}\n",
       "#T_e5991_row1_col0, #T_e5991_row2_col0, #T_e5991_row7_col0, #T_e5991_row13_col6 {\n",
       "  background-color: #ebe6f2;\n",
       "  color: #000000;\n",
       "}\n",
       "#T_e5991_row1_col2, #T_e5991_row9_col12 {\n",
       "  background-color: #4496c3;\n",
       "  color: #f1f1f1;\n",
       "}\n",
       "#T_e5991_row1_col3 {\n",
       "  background-color: #2d8abd;\n",
       "  color: #f1f1f1;\n",
       "}\n",
       "#T_e5991_row1_col4, #T_e5991_row2_col15, #T_e5991_row6_col4, #T_e5991_row8_col17, #T_e5991_row10_col8, #T_e5991_row10_col11, #T_e5991_row12_col0 {\n",
       "  background-color: #e7e3f0;\n",
       "  color: #000000;\n",
       "}\n",
       "#T_e5991_row1_col5 {\n",
       "  background-color: #afc1dd;\n",
       "  color: #000000;\n",
       "}\n",
       "#T_e5991_row1_col6, #T_e5991_row15_col6 {\n",
       "  background-color: #fbf4f9;\n",
       "  color: #000000;\n",
       "}\n",
       "#T_e5991_row1_col7, #T_e5991_row4_col19, #T_e5991_row5_col0, #T_e5991_row11_col18, #T_e5991_row12_col14, #T_e5991_row13_col18, #T_e5991_row16_col0 {\n",
       "  background-color: #e8e4f0;\n",
       "  color: #000000;\n",
       "}\n",
       "#T_e5991_row1_col8, #T_e5991_row5_col1, #T_e5991_row6_col19, #T_e5991_row10_col4, #T_e5991_row19_col8 {\n",
       "  background-color: #c4cbe3;\n",
       "  color: #000000;\n",
       "}\n",
       "#T_e5991_row1_col9, #T_e5991_row19_col11 {\n",
       "  background-color: #86b0d3;\n",
       "  color: #000000;\n",
       "}\n",
       "#T_e5991_row1_col10, #T_e5991_row17_col16 {\n",
       "  background-color: #4a98c5;\n",
       "  color: #f1f1f1;\n",
       "}\n",
       "#T_e5991_row1_col11, #T_e5991_row5_col16, #T_e5991_row9_col1, #T_e5991_row19_col7 {\n",
       "  background-color: #8cb3d5;\n",
       "  color: #000000;\n",
       "}\n",
       "#T_e5991_row1_col12, #T_e5991_row6_col14 {\n",
       "  background-color: #a5bddb;\n",
       "  color: #000000;\n",
       "}\n",
       "#T_e5991_row1_col14, #T_e5991_row6_col11, #T_e5991_row6_col13 {\n",
       "  background-color: #cccfe5;\n",
       "  color: #000000;\n",
       "}\n",
       "#T_e5991_row1_col15, #T_e5991_row3_col0, #T_e5991_row8_col4, #T_e5991_row11_col6 {\n",
       "  background-color: #eee8f3;\n",
       "  color: #000000;\n",
       "}\n",
       "#T_e5991_row1_col16 {\n",
       "  background-color: #8bb2d4;\n",
       "  color: #000000;\n",
       "}\n",
       "#T_e5991_row1_col17, #T_e5991_row3_col16, #T_e5991_row4_col16, #T_e5991_row11_col3 {\n",
       "  background-color: #69a5cc;\n",
       "  color: #f1f1f1;\n",
       "}\n",
       "#T_e5991_row1_col18, #T_e5991_row13_col1, #T_e5991_row13_col15, #T_e5991_row14_col7 {\n",
       "  background-color: #e6e2ef;\n",
       "  color: #000000;\n",
       "}\n",
       "#T_e5991_row1_col19, #T_e5991_row4_col17, #T_e5991_row15_col19 {\n",
       "  background-color: #b0c2de;\n",
       "  color: #000000;\n",
       "}\n",
       "#T_e5991_row2_col1 {\n",
       "  background-color: #4c99c5;\n",
       "  color: #f1f1f1;\n",
       "}\n",
       "#T_e5991_row2_col3, #T_e5991_row3_col2 {\n",
       "  background-color: #0568a3;\n",
       "  color: #f1f1f1;\n",
       "}\n",
       "#T_e5991_row2_col5 {\n",
       "  background-color: #3d93c2;\n",
       "  color: #f1f1f1;\n",
       "}\n",
       "#T_e5991_row2_col6 {\n",
       "  background-color: #f1ebf4;\n",
       "  color: #000000;\n",
       "}\n",
       "#T_e5991_row2_col7, #T_e5991_row6_col3, #T_e5991_row9_col14, #T_e5991_row11_col13 {\n",
       "  background-color: #d2d2e7;\n",
       "  color: #000000;\n",
       "}\n",
       "#T_e5991_row2_col9 {\n",
       "  background-color: #1278b4;\n",
       "  color: #f1f1f1;\n",
       "}\n",
       "#T_e5991_row2_col10, #T_e5991_row18_col4 {\n",
       "  background-color: #056faf;\n",
       "  color: #f1f1f1;\n",
       "}\n",
       "#T_e5991_row2_col11 {\n",
       "  background-color: #94b6d7;\n",
       "  color: #000000;\n",
       "}\n",
       "#T_e5991_row2_col12 {\n",
       "  background-color: #328dbf;\n",
       "  color: #f1f1f1;\n",
       "}\n",
       "#T_e5991_row2_col16, #T_e5991_row17_col12 {\n",
       "  background-color: #71a8ce;\n",
       "  color: #f1f1f1;\n",
       "}\n",
       "#T_e5991_row2_col17 {\n",
       "  background-color: #2786bb;\n",
       "  color: #f1f1f1;\n",
       "}\n",
       "#T_e5991_row2_col19 {\n",
       "  background-color: #5a9ec9;\n",
       "  color: #f1f1f1;\n",
       "}\n",
       "#T_e5991_row3_col1, #T_e5991_row5_col12, #T_e5991_row10_col19 {\n",
       "  background-color: #348ebf;\n",
       "  color: #f1f1f1;\n",
       "}\n",
       "#T_e5991_row3_col4, #T_e5991_row4_col14, #T_e5991_row19_col6 {\n",
       "  background-color: #c8cde4;\n",
       "  color: #000000;\n",
       "}\n",
       "#T_e5991_row3_col5 {\n",
       "  background-color: #79abd0;\n",
       "  color: #f1f1f1;\n",
       "}\n",
       "#T_e5991_row3_col6, #T_e5991_row7_col15, #T_e5991_row8_col7, #T_e5991_row16_col13, #T_e5991_row18_col19 {\n",
       "  background-color: #ece7f2;\n",
       "  color: #000000;\n",
       "}\n",
       "#T_e5991_row3_col7, #T_e5991_row9_col11, #T_e5991_row16_col9, #T_e5991_row17_col7 {\n",
       "  background-color: #b5c4df;\n",
       "  color: #000000;\n",
       "}\n",
       "#T_e5991_row3_col9, #T_e5991_row17_col3 {\n",
       "  background-color: #0567a2;\n",
       "  color: #f1f1f1;\n",
       "}\n",
       "#T_e5991_row3_col10 {\n",
       "  background-color: #045280;\n",
       "  color: #f1f1f1;\n",
       "}\n",
       "#T_e5991_row3_col11 {\n",
       "  background-color: #60a1ca;\n",
       "  color: #f1f1f1;\n",
       "}\n",
       "#T_e5991_row3_col12 {\n",
       "  background-color: #75a9cf;\n",
       "  color: #f1f1f1;\n",
       "}\n",
       "#T_e5991_row3_col13, #T_e5991_row7_col5, #T_e5991_row13_col10 {\n",
       "  background-color: #d4d4e8;\n",
       "  color: #000000;\n",
       "}\n",
       "#T_e5991_row3_col17 {\n",
       "  background-color: #05659f;\n",
       "  color: #f1f1f1;\n",
       "}\n",
       "#T_e5991_row3_col19, #T_e5991_row19_col9 {\n",
       "  background-color: #1077b4;\n",
       "  color: #f1f1f1;\n",
       "}\n",
       "#T_e5991_row4_col2 {\n",
       "  background-color: #d2d3e7;\n",
       "  color: #000000;\n",
       "}\n",
       "#T_e5991_row4_col3, #T_e5991_row7_col2, #T_e5991_row18_col3, #T_e5991_row18_col12 {\n",
       "  background-color: #b9c6e0;\n",
       "  color: #000000;\n",
       "}\n",
       "#T_e5991_row4_col5, #T_e5991_row4_col11, #T_e5991_row6_col9, #T_e5991_row15_col10, #T_e5991_row15_col13, #T_e5991_row18_col11 {\n",
       "  background-color: #d9d8ea;\n",
       "  color: #000000;\n",
       "}\n",
       "#T_e5991_row4_col6, #T_e5991_row5_col8, #T_e5991_row14_col6 {\n",
       "  background-color: #f5eef6;\n",
       "  color: #000000;\n",
       "}\n",
       "#T_e5991_row4_col7, #T_e5991_row9_col0, #T_e5991_row11_col4 {\n",
       "  background-color: #eae6f1;\n",
       "  color: #000000;\n",
       "}\n",
       "#T_e5991_row4_col8, #T_e5991_row13_col11, #T_e5991_row14_col11, #T_e5991_row15_col17, #T_e5991_row17_col4, #T_e5991_row18_col8 {\n",
       "  background-color: #cdd0e5;\n",
       "  color: #000000;\n",
       "}\n",
       "#T_e5991_row4_col9, #T_e5991_row18_col9 {\n",
       "  background-color: #d0d1e6;\n",
       "  color: #000000;\n",
       "}\n",
       "#T_e5991_row4_col12, #T_e5991_row7_col8, #T_e5991_row9_col7 {\n",
       "  background-color: #bfc9e1;\n",
       "  color: #000000;\n",
       "}\n",
       "#T_e5991_row4_col15, #T_e5991_row5_col6, #T_e5991_row15_col18 {\n",
       "  background-color: #f7f0f7;\n",
       "  color: #000000;\n",
       "}\n",
       "#T_e5991_row4_col18, #T_e5991_row17_col9, #T_e5991_row19_col3 {\n",
       "  background-color: #056fae;\n",
       "  color: #f1f1f1;\n",
       "}\n",
       "#T_e5991_row5_col2 {\n",
       "  background-color: #4697c4;\n",
       "  color: #f1f1f1;\n",
       "}\n",
       "#T_e5991_row5_col3 {\n",
       "  background-color: #84b0d3;\n",
       "  color: #f1f1f1;\n",
       "}\n",
       "#T_e5991_row5_col4, #T_e5991_row5_col18, #T_e5991_row6_col0, #T_e5991_row10_col0 {\n",
       "  background-color: #ede8f3;\n",
       "  color: #000000;\n",
       "}\n",
       "#T_e5991_row5_col7, #T_e5991_row8_col0, #T_e5991_row8_col15, #T_e5991_row9_col6, #T_e5991_row10_col6, #T_e5991_row13_col12 {\n",
       "  background-color: #f0eaf4;\n",
       "  color: #000000;\n",
       "}\n",
       "#T_e5991_row5_col9, #T_e5991_row10_col1, #T_e5991_row12_col10 {\n",
       "  background-color: #5ea0ca;\n",
       "  color: #f1f1f1;\n",
       "}\n",
       "#T_e5991_row5_col10, #T_e5991_row10_col5 {\n",
       "  background-color: #3991c1;\n",
       "  color: #f1f1f1;\n",
       "}\n",
       "#T_e5991_row5_col13, #T_e5991_row7_col1, #T_e5991_row10_col14, #T_e5991_row12_col18, #T_e5991_row15_col2, #T_e5991_row17_col8 {\n",
       "  background-color: #dddbec;\n",
       "  color: #000000;\n",
       "}\n",
       "#T_e5991_row5_col14, #T_e5991_row11_col7, #T_e5991_row19_col14 {\n",
       "  background-color: #b7c5df;\n",
       "  color: #000000;\n",
       "}\n",
       "#T_e5991_row5_col17, #T_e5991_row6_col7, #T_e5991_row7_col17, #T_e5991_row12_col3 {\n",
       "  background-color: #8eb3d5;\n",
       "  color: #000000;\n",
       "}\n",
       "#T_e5991_row5_col19, #T_e5991_row15_col11, #T_e5991_row17_col18, #T_e5991_row19_col13 {\n",
       "  background-color: #c1cae2;\n",
       "  color: #000000;\n",
       "}\n",
       "#T_e5991_row6_col2, #T_e5991_row13_col2, #T_e5991_row15_col3 {\n",
       "  background-color: #d8d7e9;\n",
       "  color: #000000;\n",
       "}\n",
       "#T_e5991_row6_col5, #T_e5991_row9_col4, #T_e5991_row10_col7, #T_e5991_row11_col15, #T_e5991_row13_col8, #T_e5991_row13_col17 {\n",
       "  background-color: #d6d6e9;\n",
       "  color: #000000;\n",
       "}\n",
       "#T_e5991_row6_col10, #T_e5991_row15_col5, #T_e5991_row15_col9 {\n",
       "  background-color: #ced0e6;\n",
       "  color: #000000;\n",
       "}\n",
       "#T_e5991_row6_col12, #T_e5991_row14_col13, #T_e5991_row18_col2 {\n",
       "  background-color: #d3d4e7;\n",
       "  color: #000000;\n",
       "}\n",
       "#T_e5991_row6_col15, #T_e5991_row12_col19, #T_e5991_row13_col0 {\n",
       "  background-color: #efe9f3;\n",
       "  color: #000000;\n",
       "}\n",
       "#T_e5991_row6_col16, #T_e5991_row7_col10 {\n",
       "  background-color: #b4c4df;\n",
       "  color: #000000;\n",
       "}\n",
       "#T_e5991_row6_col17 {\n",
       "  background-color: #c6cce3;\n",
       "  color: #000000;\n",
       "}\n",
       "#T_e5991_row6_col18, #T_e5991_row8_col1, #T_e5991_row9_col8, #T_e5991_row18_col1 {\n",
       "  background-color: #e5e1ef;\n",
       "  color: #000000;\n",
       "}\n",
       "#T_e5991_row7_col3, #T_e5991_row11_col2, #T_e5991_row11_col8, #T_e5991_row19_col15 {\n",
       "  background-color: #9ebad9;\n",
       "  color: #000000;\n",
       "}\n",
       "#T_e5991_row7_col6, #T_e5991_row19_col5 {\n",
       "  background-color: #97b7d7;\n",
       "  color: #000000;\n",
       "}\n",
       "#T_e5991_row7_col9 {\n",
       "  background-color: #abbfdc;\n",
       "  color: #000000;\n",
       "}\n",
       "#T_e5991_row7_col11, #T_e5991_row7_col14 {\n",
       "  background-color: #96b6d7;\n",
       "  color: #000000;\n",
       "}\n",
       "#T_e5991_row7_col13, #T_e5991_row14_col8, #T_e5991_row15_col16 {\n",
       "  background-color: #c9cee4;\n",
       "  color: #000000;\n",
       "}\n",
       "#T_e5991_row7_col16, #T_e5991_row19_col12 {\n",
       "  background-color: #bdc8e1;\n",
       "  color: #000000;\n",
       "}\n",
       "#T_e5991_row7_col18, #T_e5991_row16_col8, #T_e5991_row17_col13 {\n",
       "  background-color: #dfddec;\n",
       "  color: #000000;\n",
       "}\n",
       "#T_e5991_row7_col19 {\n",
       "  background-color: #93b5d6;\n",
       "  color: #000000;\n",
       "}\n",
       "#T_e5991_row8_col2, #T_e5991_row8_col6 {\n",
       "  background-color: #f5eff6;\n",
       "  color: #000000;\n",
       "}\n",
       "#T_e5991_row8_col9 {\n",
       "  background-color: #fbf3f9;\n",
       "  color: #000000;\n",
       "}\n",
       "#T_e5991_row8_col11 {\n",
       "  background-color: #b1c2de;\n",
       "  color: #000000;\n",
       "}\n",
       "#T_e5991_row8_col14 {\n",
       "  background-color: #a9bfdc;\n",
       "  color: #000000;\n",
       "}\n",
       "#T_e5991_row8_col16, #T_e5991_row10_col18, #T_e5991_row11_col9 {\n",
       "  background-color: #c2cbe2;\n",
       "  color: #000000;\n",
       "}\n",
       "#T_e5991_row9_col2 {\n",
       "  background-color: #0f76b3;\n",
       "  color: #f1f1f1;\n",
       "}\n",
       "#T_e5991_row9_col3 {\n",
       "  background-color: #0567a1;\n",
       "  color: #f1f1f1;\n",
       "}\n",
       "#T_e5991_row9_col5, #T_e5991_row10_col12 {\n",
       "  background-color: #4e9ac6;\n",
       "  color: #f1f1f1;\n",
       "}\n",
       "#T_e5991_row9_col10 {\n",
       "  background-color: #0566a0;\n",
       "  color: #f1f1f1;\n",
       "}\n",
       "#T_e5991_row9_col16, #T_e5991_row16_col17 {\n",
       "  background-color: #76aad0;\n",
       "  color: #f1f1f1;\n",
       "}\n",
       "#T_e5991_row9_col17 {\n",
       "  background-color: #056ba9;\n",
       "  color: #f1f1f1;\n",
       "}\n",
       "#T_e5991_row9_col19 {\n",
       "  background-color: #1e80b8;\n",
       "  color: #f1f1f1;\n",
       "}\n",
       "#T_e5991_row10_col2 {\n",
       "  background-color: #0872b1;\n",
       "  color: #f1f1f1;\n",
       "}\n",
       "#T_e5991_row10_col3 {\n",
       "  background-color: #045483;\n",
       "  color: #f1f1f1;\n",
       "}\n",
       "#T_e5991_row10_col9, #T_e5991_row10_col17 {\n",
       "  background-color: #0569a4;\n",
       "  color: #f1f1f1;\n",
       "}\n",
       "#T_e5991_row10_col13, #T_e5991_row18_col5 {\n",
       "  background-color: #dad9ea;\n",
       "  color: #000000;\n",
       "}\n",
       "#T_e5991_row10_col16, #T_e5991_row12_col2 {\n",
       "  background-color: #4897c4;\n",
       "  color: #f1f1f1;\n",
       "}\n",
       "#T_e5991_row11_col1 {\n",
       "  background-color: #9fbad9;\n",
       "  color: #000000;\n",
       "}\n",
       "#T_e5991_row11_col5, #T_e5991_row14_col12 {\n",
       "  background-color: #fdf5fa;\n",
       "  color: #000000;\n",
       "}\n",
       "#T_e5991_row11_col14 {\n",
       "  background-color: #99b8d8;\n",
       "  color: #000000;\n",
       "}\n",
       "#T_e5991_row11_col16, #T_e5991_row12_col1, #T_e5991_row18_col14 {\n",
       "  background-color: #cacee5;\n",
       "  color: #000000;\n",
       "}\n",
       "#T_e5991_row12_col4 {\n",
       "  background-color: #e3e0ee;\n",
       "  color: #000000;\n",
       "}\n",
       "#T_e5991_row12_col5, #T_e5991_row19_col2 {\n",
       "  background-color: #3f93c2;\n",
       "  color: #f1f1f1;\n",
       "}\n",
       "#T_e5991_row12_col7 {\n",
       "  background-color: #fcf4fa;\n",
       "  color: #000000;\n",
       "}\n",
       "#T_e5991_row12_col9, #T_e5991_row15_col14 {\n",
       "  background-color: #63a2cb;\n",
       "  color: #f1f1f1;\n",
       "}\n",
       "#T_e5991_row12_col16 {\n",
       "  background-color: #358fc0;\n",
       "  color: #f1f1f1;\n",
       "}\n",
       "#T_e5991_row12_col17 {\n",
       "  background-color: #7dacd1;\n",
       "  color: #f1f1f1;\n",
       "}\n",
       "#T_e5991_row13_col14, #T_e5991_row19_col1 {\n",
       "  background-color: #9cb9d9;\n",
       "  color: #000000;\n",
       "}\n",
       "#T_e5991_row13_col16 {\n",
       "  background-color: #bbc7e0;\n",
       "  color: #000000;\n",
       "}\n",
       "#T_e5991_row13_col19 {\n",
       "  background-color: #e0dded;\n",
       "  color: #000000;\n",
       "}\n",
       "#T_e5991_row15_col4, #T_e5991_row18_col15 {\n",
       "  background-color: #f8f1f8;\n",
       "  color: #000000;\n",
       "}\n",
       "#T_e5991_row15_col7 {\n",
       "  background-color: #f3edf5;\n",
       "  color: #000000;\n",
       "}\n",
       "#T_e5991_row16_col3, #T_e5991_row19_col16 {\n",
       "  background-color: #a4bcda;\n",
       "  color: #000000;\n",
       "}\n",
       "#T_e5991_row16_col4 {\n",
       "  background-color: #b3c3de;\n",
       "  color: #000000;\n",
       "}\n",
       "#T_e5991_row16_col5 {\n",
       "  background-color: #bcc7e1;\n",
       "  color: #000000;\n",
       "}\n",
       "#T_e5991_row16_col10 {\n",
       "  background-color: #78abd0;\n",
       "  color: #f1f1f1;\n",
       "}\n",
       "#T_e5991_row16_col12 {\n",
       "  background-color: #529bc7;\n",
       "  color: #f1f1f1;\n",
       "}\n",
       "#T_e5991_row17_col1 {\n",
       "  background-color: #81aed2;\n",
       "  color: #f1f1f1;\n",
       "}\n",
       "#T_e5991_row17_col2 {\n",
       "  background-color: #308cbe;\n",
       "  color: #f1f1f1;\n",
       "}\n",
       "#T_e5991_row17_col5 {\n",
       "  background-color: #91b5d6;\n",
       "  color: #000000;\n",
       "}\n",
       "#T_e5991_row17_col6, #T_e5991_row19_col0 {\n",
       "  background-color: #eee9f3;\n",
       "  color: #000000;\n",
       "}\n",
       "#T_e5991_row17_col10 {\n",
       "  background-color: #0569a5;\n",
       "  color: #f1f1f1;\n",
       "}\n",
       "#T_e5991_row17_col11 {\n",
       "  background-color: #adc1dd;\n",
       "  color: #000000;\n",
       "}\n",
       "#T_e5991_row17_col14 {\n",
       "  background-color: #e0deed;\n",
       "  color: #000000;\n",
       "}\n",
       "#T_e5991_row17_col19 {\n",
       "  background-color: #4094c3;\n",
       "  color: #f1f1f1;\n",
       "}\n",
       "#T_e5991_row18_col6 {\n",
       "  background-color: #f4edf6;\n",
       "  color: #000000;\n",
       "}\n",
       "#T_e5991_row18_col16 {\n",
       "  background-color: #67a4cc;\n",
       "  color: #f1f1f1;\n",
       "}\n",
       "#T_e5991_row18_col17 {\n",
       "  background-color: #a8bedc;\n",
       "  color: #000000;\n",
       "}\n",
       "#T_e5991_row19_col10 {\n",
       "  background-color: #1c7fb8;\n",
       "  color: #f1f1f1;\n",
       "}\n",
       "#T_e5991_row19_col17 {\n",
       "  background-color: #2383ba;\n",
       "  color: #f1f1f1;\n",
       "}\n",
       "</style>\n",
       "<table id=\"T_e5991\">\n",
       "  <thead>\n",
       "    <tr>\n",
       "      <th class=\"blank level0\" >&nbsp;</th>\n",
       "      <th id=\"T_e5991_level0_col0\" class=\"col_heading level0 col0\" >id</th>\n",
       "      <th id=\"T_e5991_level0_col1\" class=\"col_heading level0 col1\" >bedrooms</th>\n",
       "      <th id=\"T_e5991_level0_col2\" class=\"col_heading level0 col2\" >bathrooms</th>\n",
       "      <th id=\"T_e5991_level0_col3\" class=\"col_heading level0 col3\" >sqft_living</th>\n",
       "      <th id=\"T_e5991_level0_col4\" class=\"col_heading level0 col4\" >sqft_lot</th>\n",
       "      <th id=\"T_e5991_level0_col5\" class=\"col_heading level0 col5\" >floors</th>\n",
       "      <th id=\"T_e5991_level0_col6\" class=\"col_heading level0 col6\" >waterfront</th>\n",
       "      <th id=\"T_e5991_level0_col7\" class=\"col_heading level0 col7\" >view</th>\n",
       "      <th id=\"T_e5991_level0_col8\" class=\"col_heading level0 col8\" >condition</th>\n",
       "      <th id=\"T_e5991_level0_col9\" class=\"col_heading level0 col9\" >grade</th>\n",
       "      <th id=\"T_e5991_level0_col10\" class=\"col_heading level0 col10\" >sqft_above</th>\n",
       "      <th id=\"T_e5991_level0_col11\" class=\"col_heading level0 col11\" >sqft_basement</th>\n",
       "      <th id=\"T_e5991_level0_col12\" class=\"col_heading level0 col12\" >yr_built</th>\n",
       "      <th id=\"T_e5991_level0_col13\" class=\"col_heading level0 col13\" >yr_renovated</th>\n",
       "      <th id=\"T_e5991_level0_col14\" class=\"col_heading level0 col14\" >zipcode</th>\n",
       "      <th id=\"T_e5991_level0_col15\" class=\"col_heading level0 col15\" >lat</th>\n",
       "      <th id=\"T_e5991_level0_col16\" class=\"col_heading level0 col16\" >long</th>\n",
       "      <th id=\"T_e5991_level0_col17\" class=\"col_heading level0 col17\" >sqft_living15</th>\n",
       "      <th id=\"T_e5991_level0_col18\" class=\"col_heading level0 col18\" >sqft_lot15</th>\n",
       "      <th id=\"T_e5991_level0_col19\" class=\"col_heading level0 col19\" >price</th>\n",
       "    </tr>\n",
       "  </thead>\n",
       "  <tbody>\n",
       "    <tr>\n",
       "      <th id=\"T_e5991_level0_row0\" class=\"row_heading level0 row0\" >id</th>\n",
       "      <td id=\"T_e5991_row0_col0\" class=\"data row0 col0\" >1.000000</td>\n",
       "      <td id=\"T_e5991_row0_col1\" class=\"data row0 col1\" >0.003770</td>\n",
       "      <td id=\"T_e5991_row0_col2\" class=\"data row0 col2\" >0.005807</td>\n",
       "      <td id=\"T_e5991_row0_col3\" class=\"data row0 col3\" >-0.011047</td>\n",
       "      <td id=\"T_e5991_row0_col4\" class=\"data row0 col4\" >-0.139581</td>\n",
       "      <td id=\"T_e5991_row0_col5\" class=\"data row0 col5\" >0.016917</td>\n",
       "      <td id=\"T_e5991_row0_col6\" class=\"data row0 col6\" >-0.009354</td>\n",
       "      <td id=\"T_e5991_row0_col7\" class=\"data row0 col7\" >0.005346</td>\n",
       "      <td id=\"T_e5991_row0_col8\" class=\"data row0 col8\" >-0.025248</td>\n",
       "      <td id=\"T_e5991_row0_col9\" class=\"data row0 col9\" >0.008262</td>\n",
       "      <td id=\"T_e5991_row0_col10\" class=\"data row0 col10\" >-0.009464</td>\n",
       "      <td id=\"T_e5991_row0_col11\" class=\"data row0 col11\" >-0.005100</td>\n",
       "      <td id=\"T_e5991_row0_col12\" class=\"data row0 col12\" >0.025425</td>\n",
       "      <td id=\"T_e5991_row0_col13\" class=\"data row0 col13\" >-0.020949</td>\n",
       "      <td id=\"T_e5991_row0_col14\" class=\"data row0 col14\" >-0.006167</td>\n",
       "      <td id=\"T_e5991_row0_col15\" class=\"data row0 col15\" >-0.003780</td>\n",
       "      <td id=\"T_e5991_row0_col16\" class=\"data row0 col16\" >0.017019</td>\n",
       "      <td id=\"T_e5991_row0_col17\" class=\"data row0 col17\" >-0.002518</td>\n",
       "      <td id=\"T_e5991_row0_col18\" class=\"data row0 col18\" >-0.144802</td>\n",
       "      <td id=\"T_e5991_row0_col19\" class=\"data row0 col19\" >-0.018126</td>\n",
       "    </tr>\n",
       "    <tr>\n",
       "      <th id=\"T_e5991_level0_row1\" class=\"row_heading level0 row1\" >bedrooms</th>\n",
       "      <td id=\"T_e5991_row1_col0\" class=\"data row1 col0\" >0.003770</td>\n",
       "      <td id=\"T_e5991_row1_col1\" class=\"data row1 col1\" >1.000000</td>\n",
       "      <td id=\"T_e5991_row1_col2\" class=\"data row1 col2\" >0.514100</td>\n",
       "      <td id=\"T_e5991_row1_col3\" class=\"data row1 col3\" >0.571408</td>\n",
       "      <td id=\"T_e5991_row1_col4\" class=\"data row1 col4\" >0.032922</td>\n",
       "      <td id=\"T_e5991_row1_col5\" class=\"data row1 col5\" >0.174930</td>\n",
       "      <td id=\"T_e5991_row1_col6\" class=\"data row1 col6\" >-0.016160</td>\n",
       "      <td id=\"T_e5991_row1_col7\" class=\"data row1 col7\" >0.067719</td>\n",
       "      <td id=\"T_e5991_row1_col8\" class=\"data row1 col8\" >0.027017</td>\n",
       "      <td id=\"T_e5991_row1_col9\" class=\"data row1 col9\" >0.352756</td>\n",
       "      <td id=\"T_e5991_row1_col10\" class=\"data row1 col10\" >0.471758</td>\n",
       "      <td id=\"T_e5991_row1_col11\" class=\"data row1 col11\" >0.297825</td>\n",
       "      <td id=\"T_e5991_row1_col12\" class=\"data row1 col12\" >0.151177</td>\n",
       "      <td id=\"T_e5991_row1_col13\" class=\"data row1 col13\" >0.020731</td>\n",
       "      <td id=\"T_e5991_row1_col14\" class=\"data row1 col14\" >-0.156328</td>\n",
       "      <td id=\"T_e5991_row1_col15\" class=\"data row1 col15\" >-0.013708</td>\n",
       "      <td id=\"T_e5991_row1_col16\" class=\"data row1 col16\" >0.130304</td>\n",
       "      <td id=\"T_e5991_row1_col17\" class=\"data row1 col17\" >0.384261</td>\n",
       "      <td id=\"T_e5991_row1_col18\" class=\"data row1 col18\" >0.026539</td>\n",
       "      <td id=\"T_e5991_row1_col19\" class=\"data row1 col19\" >0.305965</td>\n",
       "    </tr>\n",
       "    <tr>\n",
       "      <th id=\"T_e5991_level0_row2\" class=\"row_heading level0 row2\" >bathrooms</th>\n",
       "      <td id=\"T_e5991_row2_col0\" class=\"data row2 col0\" >0.005807</td>\n",
       "      <td id=\"T_e5991_row2_col1\" class=\"data row2 col1\" >0.514100</td>\n",
       "      <td id=\"T_e5991_row2_col2\" class=\"data row2 col2\" >1.000000</td>\n",
       "      <td id=\"T_e5991_row2_col3\" class=\"data row2 col3\" >0.752778</td>\n",
       "      <td id=\"T_e5991_row2_col4\" class=\"data row2 col4\" >0.085667</td>\n",
       "      <td id=\"T_e5991_row2_col5\" class=\"data row2 col5\" >0.506395</td>\n",
       "      <td id=\"T_e5991_row2_col6\" class=\"data row2 col6\" >0.054351</td>\n",
       "      <td id=\"T_e5991_row2_col7\" class=\"data row2 col7\" >0.177997</td>\n",
       "      <td id=\"T_e5991_row2_col8\" class=\"data row2 col8\" >-0.129141</td>\n",
       "      <td id=\"T_e5991_row2_col9\" class=\"data row2 col9\" >0.665649</td>\n",
       "      <td id=\"T_e5991_row2_col10\" class=\"data row2 col10\" >0.684781</td>\n",
       "      <td id=\"T_e5991_row2_col11\" class=\"data row2 col11\" >0.272992</td>\n",
       "      <td id=\"T_e5991_row2_col12\" class=\"data row2 col12\" >0.504154</td>\n",
       "      <td id=\"T_e5991_row2_col13\" class=\"data row2 col13\" >0.053835</td>\n",
       "      <td id=\"T_e5991_row2_col14\" class=\"data row2 col14\" >-0.206184</td>\n",
       "      <td id=\"T_e5991_row2_col15\" class=\"data row2 col15\" >0.026642</td>\n",
       "      <td id=\"T_e5991_row2_col16\" class=\"data row2 col16\" >0.225798</td>\n",
       "      <td id=\"T_e5991_row2_col17\" class=\"data row2 col17\" >0.565191</td>\n",
       "      <td id=\"T_e5991_row2_col18\" class=\"data row2 col18\" >0.076886</td>\n",
       "      <td id=\"T_e5991_row2_col19\" class=\"data row2 col19\" >0.527273</td>\n",
       "    </tr>\n",
       "    <tr>\n",
       "      <th id=\"T_e5991_level0_row3\" class=\"row_heading level0 row3\" >sqft_living</th>\n",
       "      <td id=\"T_e5991_row3_col0\" class=\"data row3 col0\" >-0.011047</td>\n",
       "      <td id=\"T_e5991_row3_col1\" class=\"data row3 col1\" >0.571408</td>\n",
       "      <td id=\"T_e5991_row3_col2\" class=\"data row3 col2\" >0.752778</td>\n",
       "      <td id=\"T_e5991_row3_col3\" class=\"data row3 col3\" >1.000000</td>\n",
       "      <td id=\"T_e5991_row3_col4\" class=\"data row3 col4\" >0.175524</td>\n",
       "      <td id=\"T_e5991_row3_col5\" class=\"data row3 col5\" >0.348570</td>\n",
       "      <td id=\"T_e5991_row3_col6\" class=\"data row3 col6\" >0.089529</td>\n",
       "      <td id=\"T_e5991_row3_col7\" class=\"data row3 col7\" >0.273095</td>\n",
       "      <td id=\"T_e5991_row3_col8\" class=\"data row3 col8\" >-0.060081</td>\n",
       "      <td id=\"T_e5991_row3_col9\" class=\"data row3 col9\" >0.762060</td>\n",
       "      <td id=\"T_e5991_row3_col10\" class=\"data row3 col10\" >0.877230</td>\n",
       "      <td id=\"T_e5991_row3_col11\" class=\"data row3 col11\" >0.423955</td>\n",
       "      <td id=\"T_e5991_row3_col12\" class=\"data row3 col12\" >0.317584</td>\n",
       "      <td id=\"T_e5991_row3_col13\" class=\"data row3 col13\" >0.058308</td>\n",
       "      <td id=\"T_e5991_row3_col14\" class=\"data row3 col14\" >-0.207492</td>\n",
       "      <td id=\"T_e5991_row3_col15\" class=\"data row3 col15\" >0.053754</td>\n",
       "      <td id=\"T_e5991_row3_col16\" class=\"data row3 col16\" >0.250673</td>\n",
       "      <td id=\"T_e5991_row3_col17\" class=\"data row3 col17\" >0.755621</td>\n",
       "      <td id=\"T_e5991_row3_col18\" class=\"data row3 col18\" >0.174586</td>\n",
       "      <td id=\"T_e5991_row3_col19\" class=\"data row3 col19\" >0.704987</td>\n",
       "    </tr>\n",
       "    <tr>\n",
       "      <th id=\"T_e5991_level0_row4\" class=\"row_heading level0 row4\" >sqft_lot</th>\n",
       "      <td id=\"T_e5991_row4_col0\" class=\"data row4 col0\" >-0.139581</td>\n",
       "      <td id=\"T_e5991_row4_col1\" class=\"data row4 col1\" >0.032922</td>\n",
       "      <td id=\"T_e5991_row4_col2\" class=\"data row4 col2\" >0.085667</td>\n",
       "      <td id=\"T_e5991_row4_col3\" class=\"data row4 col3\" >0.175524</td>\n",
       "      <td id=\"T_e5991_row4_col4\" class=\"data row4 col4\" >1.000000</td>\n",
       "      <td id=\"T_e5991_row4_col5\" class=\"data row4 col5\" >-0.003937</td>\n",
       "      <td id=\"T_e5991_row4_col6\" class=\"data row4 col6\" >0.027615</td>\n",
       "      <td id=\"T_e5991_row4_col7\" class=\"data row4 col7\" >0.060493</td>\n",
       "      <td id=\"T_e5991_row4_col8\" class=\"data row4 col8\" >-0.009827</td>\n",
       "      <td id=\"T_e5991_row4_col9\" class=\"data row4 col9\" >0.115713</td>\n",
       "      <td id=\"T_e5991_row4_col10\" class=\"data row4 col10\" >0.185454</td>\n",
       "      <td id=\"T_e5991_row4_col11\" class=\"data row4 col11\" >0.015023</td>\n",
       "      <td id=\"T_e5991_row4_col12\" class=\"data row4 col12\" >0.051381</td>\n",
       "      <td id=\"T_e5991_row4_col13\" class=\"data row4 col13\" >0.018193</td>\n",
       "      <td id=\"T_e5991_row4_col14\" class=\"data row4 col14\" >-0.135460</td>\n",
       "      <td id=\"T_e5991_row4_col15\" class=\"data row4 col15\" >-0.083162</td>\n",
       "      <td id=\"T_e5991_row4_col16\" class=\"data row4 col16\" >0.247345</td>\n",
       "      <td id=\"T_e5991_row4_col17\" class=\"data row4 col17\" >0.157513</td>\n",
       "      <td id=\"T_e5991_row4_col18\" class=\"data row4 col18\" >0.719088</td>\n",
       "      <td id=\"T_e5991_row4_col19\" class=\"data row4 col19\" >0.091672</td>\n",
       "    </tr>\n",
       "    <tr>\n",
       "      <th id=\"T_e5991_level0_row5\" class=\"row_heading level0 row5\" >floors</th>\n",
       "      <td id=\"T_e5991_row5_col0\" class=\"data row5 col0\" >0.016917</td>\n",
       "      <td id=\"T_e5991_row5_col1\" class=\"data row5 col1\" >0.174930</td>\n",
       "      <td id=\"T_e5991_row5_col2\" class=\"data row5 col2\" >0.506395</td>\n",
       "      <td id=\"T_e5991_row5_col3\" class=\"data row5 col3\" >0.348570</td>\n",
       "      <td id=\"T_e5991_row5_col4\" class=\"data row5 col4\" >-0.003937</td>\n",
       "      <td id=\"T_e5991_row5_col5\" class=\"data row5 col5\" >1.000000</td>\n",
       "      <td id=\"T_e5991_row5_col6\" class=\"data row5 col6\" >0.013746</td>\n",
       "      <td id=\"T_e5991_row5_col7\" class=\"data row5 col7\" >0.025277</td>\n",
       "      <td id=\"T_e5991_row5_col8\" class=\"data row5 col8\" >-0.271358</td>\n",
       "      <td id=\"T_e5991_row5_col9\" class=\"data row5 col9\" >0.459375</td>\n",
       "      <td id=\"T_e5991_row5_col10\" class=\"data row5 col10\" >0.517323</td>\n",
       "      <td id=\"T_e5991_row5_col11\" class=\"data row5 col11\" >-0.251223</td>\n",
       "      <td id=\"T_e5991_row5_col12\" class=\"data row5 col12\" >0.499540</td>\n",
       "      <td id=\"T_e5991_row5_col13\" class=\"data row5 col13\" >0.010396</td>\n",
       "      <td id=\"T_e5991_row5_col14\" class=\"data row5 col14\" >-0.056917</td>\n",
       "      <td id=\"T_e5991_row5_col15\" class=\"data row5 col15\" >0.053110</td>\n",
       "      <td id=\"T_e5991_row5_col16\" class=\"data row5 col16\" >0.124653</td>\n",
       "      <td id=\"T_e5991_row5_col17\" class=\"data row5 col17\" >0.272619</td>\n",
       "      <td id=\"T_e5991_row5_col18\" class=\"data row5 col18\" >-0.011695</td>\n",
       "      <td id=\"T_e5991_row5_col19\" class=\"data row5 col19\" >0.253288</td>\n",
       "    </tr>\n",
       "    <tr>\n",
       "      <th id=\"T_e5991_level0_row6\" class=\"row_heading level0 row6\" >waterfront</th>\n",
       "      <td id=\"T_e5991_row6_col0\" class=\"data row6 col0\" >-0.009354</td>\n",
       "      <td id=\"T_e5991_row6_col1\" class=\"data row6 col1\" >-0.016160</td>\n",
       "      <td id=\"T_e5991_row6_col2\" class=\"data row6 col2\" >0.054351</td>\n",
       "      <td id=\"T_e5991_row6_col3\" class=\"data row6 col3\" >0.089529</td>\n",
       "      <td id=\"T_e5991_row6_col4\" class=\"data row6 col4\" >0.027615</td>\n",
       "      <td id=\"T_e5991_row6_col5\" class=\"data row6 col5\" >0.013746</td>\n",
       "      <td id=\"T_e5991_row6_col6\" class=\"data row6 col6\" >1.000000</td>\n",
       "      <td id=\"T_e5991_row6_col7\" class=\"data row6 col7\" >0.387323</td>\n",
       "      <td id=\"T_e5991_row6_col8\" class=\"data row6 col8\" >0.022265</td>\n",
       "      <td id=\"T_e5991_row6_col9\" class=\"data row6 col9\" >0.061233</td>\n",
       "      <td id=\"T_e5991_row6_col10\" class=\"data row6 col10\" >0.057819</td>\n",
       "      <td id=\"T_e5991_row6_col11\" class=\"data row6 col11\" >0.077022</td>\n",
       "      <td id=\"T_e5991_row6_col12\" class=\"data row6 col12\" >-0.038927</td>\n",
       "      <td id=\"T_e5991_row6_col13\" class=\"data row6 col13\" >0.093086</td>\n",
       "      <td id=\"T_e5991_row6_col14\" class=\"data row6 col14\" >0.025594</td>\n",
       "      <td id=\"T_e5991_row6_col15\" class=\"data row6 col15\" >-0.018708</td>\n",
       "      <td id=\"T_e5991_row6_col16\" class=\"data row6 col16\" >-0.044188</td>\n",
       "      <td id=\"T_e5991_row6_col17\" class=\"data row6 col17\" >0.071134</td>\n",
       "      <td id=\"T_e5991_row6_col18\" class=\"data row6 col18\" >0.033691</td>\n",
       "      <td id=\"T_e5991_row6_col19\" class=\"data row6 col19\" >0.244587</td>\n",
       "    </tr>\n",
       "    <tr>\n",
       "      <th id=\"T_e5991_level0_row7\" class=\"row_heading level0 row7\" >view</th>\n",
       "      <td id=\"T_e5991_row7_col0\" class=\"data row7 col0\" >0.005346</td>\n",
       "      <td id=\"T_e5991_row7_col1\" class=\"data row7 col1\" >0.067719</td>\n",
       "      <td id=\"T_e5991_row7_col2\" class=\"data row7 col2\" >0.177997</td>\n",
       "      <td id=\"T_e5991_row7_col3\" class=\"data row7 col3\" >0.273095</td>\n",
       "      <td id=\"T_e5991_row7_col4\" class=\"data row7 col4\" >0.060493</td>\n",
       "      <td id=\"T_e5991_row7_col5\" class=\"data row7 col5\" >0.025277</td>\n",
       "      <td id=\"T_e5991_row7_col6\" class=\"data row7 col6\" >0.387323</td>\n",
       "      <td id=\"T_e5991_row7_col7\" class=\"data row7 col7\" >1.000000</td>\n",
       "      <td id=\"T_e5991_row7_col8\" class=\"data row7 col8\" >0.050645</td>\n",
       "      <td id=\"T_e5991_row7_col9\" class=\"data row7 col9\" >0.242958</td>\n",
       "      <td id=\"T_e5991_row7_col10\" class=\"data row7 col10\" >0.158605</td>\n",
       "      <td id=\"T_e5991_row7_col11\" class=\"data row7 col11\" >0.268450</td>\n",
       "      <td id=\"T_e5991_row7_col12\" class=\"data row7 col12\" >-0.059971</td>\n",
       "      <td id=\"T_e5991_row7_col13\" class=\"data row7 col13\" >0.103048</td>\n",
       "      <td id=\"T_e5991_row7_col14\" class=\"data row7 col14\" >0.082747</td>\n",
       "      <td id=\"T_e5991_row7_col15\" class=\"data row7 col15\" >-0.000164</td>\n",
       "      <td id=\"T_e5991_row7_col16\" class=\"data row7 col16\" >-0.085184</td>\n",
       "      <td id=\"T_e5991_row7_col17\" class=\"data row7 col17\" >0.274204</td>\n",
       "      <td id=\"T_e5991_row7_col18\" class=\"data row7 col18\" >0.064159</td>\n",
       "      <td id=\"T_e5991_row7_col19\" class=\"data row7 col19\" >0.389611</td>\n",
       "    </tr>\n",
       "    <tr>\n",
       "      <th id=\"T_e5991_level0_row8\" class=\"row_heading level0 row8\" >condition</th>\n",
       "      <td id=\"T_e5991_row8_col0\" class=\"data row8 col0\" >-0.025248</td>\n",
       "      <td id=\"T_e5991_row8_col1\" class=\"data row8 col1\" >0.027017</td>\n",
       "      <td id=\"T_e5991_row8_col2\" class=\"data row8 col2\" >-0.129141</td>\n",
       "      <td id=\"T_e5991_row8_col3\" class=\"data row8 col3\" >-0.060081</td>\n",
       "      <td id=\"T_e5991_row8_col4\" class=\"data row8 col4\" >-0.009827</td>\n",
       "      <td id=\"T_e5991_row8_col5\" class=\"data row8 col5\" >-0.271358</td>\n",
       "      <td id=\"T_e5991_row8_col6\" class=\"data row8 col6\" >0.022265</td>\n",
       "      <td id=\"T_e5991_row8_col7\" class=\"data row8 col7\" >0.050645</td>\n",
       "      <td id=\"T_e5991_row8_col8\" class=\"data row8 col8\" >1.000000</td>\n",
       "      <td id=\"T_e5991_row8_col9\" class=\"data row8 col9\" >-0.147678</td>\n",
       "      <td id=\"T_e5991_row8_col10\" class=\"data row8 col10\" >-0.159998</td>\n",
       "      <td id=\"T_e5991_row8_col11\" class=\"data row8 col11\" >0.176902</td>\n",
       "      <td id=\"T_e5991_row8_col12\" class=\"data row8 col12\" >-0.362669</td>\n",
       "      <td id=\"T_e5991_row8_col13\" class=\"data row8 col13\" >-0.056964</td>\n",
       "      <td id=\"T_e5991_row8_col14\" class=\"data row8 col14\" >0.005112</td>\n",
       "      <td id=\"T_e5991_row8_col15\" class=\"data row8 col15\" >-0.024375</td>\n",
       "      <td id=\"T_e5991_row8_col16\" class=\"data row8 col16\" >-0.110116</td>\n",
       "      <td id=\"T_e5991_row8_col17\" class=\"data row8 col17\" >-0.099168</td>\n",
       "      <td id=\"T_e5991_row8_col18\" class=\"data row8 col18\" >-0.008460</td>\n",
       "      <td id=\"T_e5991_row8_col19\" class=\"data row8 col19\" >0.028958</td>\n",
       "    </tr>\n",
       "    <tr>\n",
       "      <th id=\"T_e5991_level0_row9\" class=\"row_heading level0 row9\" >grade</th>\n",
       "      <td id=\"T_e5991_row9_col0\" class=\"data row9 col0\" >0.008262</td>\n",
       "      <td id=\"T_e5991_row9_col1\" class=\"data row9 col1\" >0.352756</td>\n",
       "      <td id=\"T_e5991_row9_col2\" class=\"data row9 col2\" >0.665649</td>\n",
       "      <td id=\"T_e5991_row9_col3\" class=\"data row9 col3\" >0.762060</td>\n",
       "      <td id=\"T_e5991_row9_col4\" class=\"data row9 col4\" >0.115713</td>\n",
       "      <td id=\"T_e5991_row9_col5\" class=\"data row9 col5\" >0.459375</td>\n",
       "      <td id=\"T_e5991_row9_col6\" class=\"data row9 col6\" >0.061233</td>\n",
       "      <td id=\"T_e5991_row9_col7\" class=\"data row9 col7\" >0.242958</td>\n",
       "      <td id=\"T_e5991_row9_col8\" class=\"data row9 col8\" >-0.147678</td>\n",
       "      <td id=\"T_e5991_row9_col9\" class=\"data row9 col9\" >1.000000</td>\n",
       "      <td id=\"T_e5991_row9_col10\" class=\"data row9 col10\" >0.754606</td>\n",
       "      <td id=\"T_e5991_row9_col11\" class=\"data row9 col11\" >0.160582</td>\n",
       "      <td id=\"T_e5991_row9_col12\" class=\"data row9 col12\" >0.447843</td>\n",
       "      <td id=\"T_e5991_row9_col13\" class=\"data row9 col13\" >0.016486</td>\n",
       "      <td id=\"T_e5991_row9_col14\" class=\"data row9 col14\" >-0.184321</td>\n",
       "      <td id=\"T_e5991_row9_col15\" class=\"data row9 col15\" >0.119504</td>\n",
       "      <td id=\"T_e5991_row9_col16\" class=\"data row9 col16\" >0.204767</td>\n",
       "      <td id=\"T_e5991_row9_col17\" class=\"data row9 col17\" >0.708890</td>\n",
       "      <td id=\"T_e5991_row9_col18\" class=\"data row9 col18\" >0.114707</td>\n",
       "      <td id=\"T_e5991_row9_col19\" class=\"data row9 col19\" >0.667772</td>\n",
       "    </tr>\n",
       "    <tr>\n",
       "      <th id=\"T_e5991_level0_row10\" class=\"row_heading level0 row10\" >sqft_above</th>\n",
       "      <td id=\"T_e5991_row10_col0\" class=\"data row10 col0\" >-0.009464</td>\n",
       "      <td id=\"T_e5991_row10_col1\" class=\"data row10 col1\" >0.471758</td>\n",
       "      <td id=\"T_e5991_row10_col2\" class=\"data row10 col2\" >0.684781</td>\n",
       "      <td id=\"T_e5991_row10_col3\" class=\"data row10 col3\" >0.877230</td>\n",
       "      <td id=\"T_e5991_row10_col4\" class=\"data row10 col4\" >0.185454</td>\n",
       "      <td id=\"T_e5991_row10_col5\" class=\"data row10 col5\" >0.517323</td>\n",
       "      <td id=\"T_e5991_row10_col6\" class=\"data row10 col6\" >0.057819</td>\n",
       "      <td id=\"T_e5991_row10_col7\" class=\"data row10 col7\" >0.158605</td>\n",
       "      <td id=\"T_e5991_row10_col8\" class=\"data row10 col8\" >-0.159998</td>\n",
       "      <td id=\"T_e5991_row10_col9\" class=\"data row10 col9\" >0.754606</td>\n",
       "      <td id=\"T_e5991_row10_col10\" class=\"data row10 col10\" >1.000000</td>\n",
       "      <td id=\"T_e5991_row10_col11\" class=\"data row10 col11\" >-0.063067</td>\n",
       "      <td id=\"T_e5991_row10_col12\" class=\"data row10 col12\" >0.423941</td>\n",
       "      <td id=\"T_e5991_row10_col13\" class=\"data row10 col13\" >0.025531</td>\n",
       "      <td id=\"T_e5991_row10_col14\" class=\"data row10 col14\" >-0.266599</td>\n",
       "      <td id=\"T_e5991_row10_col15\" class=\"data row10 col15\" >-0.001954</td>\n",
       "      <td id=\"T_e5991_row10_col16\" class=\"data row10 col16\" >0.354479</td>\n",
       "      <td id=\"T_e5991_row10_col17\" class=\"data row10 col17\" >0.730893</td>\n",
       "      <td id=\"T_e5991_row10_col18\" class=\"data row10 col18\" >0.185736</td>\n",
       "      <td id=\"T_e5991_row10_col19\" class=\"data row10 col19\" >0.607814</td>\n",
       "    </tr>\n",
       "    <tr>\n",
       "      <th id=\"T_e5991_level0_row11\" class=\"row_heading level0 row11\" >sqft_basement</th>\n",
       "      <td id=\"T_e5991_row11_col0\" class=\"data row11 col0\" >-0.005100</td>\n",
       "      <td id=\"T_e5991_row11_col1\" class=\"data row11 col1\" >0.297825</td>\n",
       "      <td id=\"T_e5991_row11_col2\" class=\"data row11 col2\" >0.272992</td>\n",
       "      <td id=\"T_e5991_row11_col3\" class=\"data row11 col3\" >0.423955</td>\n",
       "      <td id=\"T_e5991_row11_col4\" class=\"data row11 col4\" >0.015023</td>\n",
       "      <td id=\"T_e5991_row11_col5\" class=\"data row11 col5\" >-0.251223</td>\n",
       "      <td id=\"T_e5991_row11_col6\" class=\"data row11 col6\" >0.077022</td>\n",
       "      <td id=\"T_e5991_row11_col7\" class=\"data row11 col7\" >0.268450</td>\n",
       "      <td id=\"T_e5991_row11_col8\" class=\"data row11 col8\" >0.176902</td>\n",
       "      <td id=\"T_e5991_row11_col9\" class=\"data row11 col9\" >0.160582</td>\n",
       "      <td id=\"T_e5991_row11_col10\" class=\"data row11 col10\" >-0.063067</td>\n",
       "      <td id=\"T_e5991_row11_col11\" class=\"data row11 col11\" >1.000000</td>\n",
       "      <td id=\"T_e5991_row11_col12\" class=\"data row11 col12\" >-0.139532</td>\n",
       "      <td id=\"T_e5991_row11_col13\" class=\"data row11 col13\" >0.073032</td>\n",
       "      <td id=\"T_e5991_row11_col14\" class=\"data row11 col14\" >0.071570</td>\n",
       "      <td id=\"T_e5991_row11_col15\" class=\"data row11 col15\" >0.115402</td>\n",
       "      <td id=\"T_e5991_row11_col16\" class=\"data row11 col16\" >-0.147589</td>\n",
       "      <td id=\"T_e5991_row11_col17\" class=\"data row11 col17\" >0.191927</td>\n",
       "      <td id=\"T_e5991_row11_col18\" class=\"data row11 col18\" >0.012540</td>\n",
       "      <td id=\"T_e5991_row11_col19\" class=\"data row11 col19\" >0.318828</td>\n",
       "    </tr>\n",
       "    <tr>\n",
       "      <th id=\"T_e5991_level0_row12\" class=\"row_heading level0 row12\" >yr_built</th>\n",
       "      <td id=\"T_e5991_row12_col0\" class=\"data row12 col0\" >0.025425</td>\n",
       "      <td id=\"T_e5991_row12_col1\" class=\"data row12 col1\" >0.151177</td>\n",
       "      <td id=\"T_e5991_row12_col2\" class=\"data row12 col2\" >0.504154</td>\n",
       "      <td id=\"T_e5991_row12_col3\" class=\"data row12 col3\" >0.317584</td>\n",
       "      <td id=\"T_e5991_row12_col4\" class=\"data row12 col4\" >0.051381</td>\n",
       "      <td id=\"T_e5991_row12_col5\" class=\"data row12 col5\" >0.499540</td>\n",
       "      <td id=\"T_e5991_row12_col6\" class=\"data row12 col6\" >-0.038927</td>\n",
       "      <td id=\"T_e5991_row12_col7\" class=\"data row12 col7\" >-0.059971</td>\n",
       "      <td id=\"T_e5991_row12_col8\" class=\"data row12 col8\" >-0.362669</td>\n",
       "      <td id=\"T_e5991_row12_col9\" class=\"data row12 col9\" >0.447843</td>\n",
       "      <td id=\"T_e5991_row12_col10\" class=\"data row12 col10\" >0.423941</td>\n",
       "      <td id=\"T_e5991_row12_col11\" class=\"data row12 col11\" >-0.139532</td>\n",
       "      <td id=\"T_e5991_row12_col12\" class=\"data row12 col12\" >1.000000</td>\n",
       "      <td id=\"T_e5991_row12_col13\" class=\"data row12 col13\" >-0.228484</td>\n",
       "      <td id=\"T_e5991_row12_col14\" class=\"data row12 col14\" >-0.342671</td>\n",
       "      <td id=\"T_e5991_row12_col15\" class=\"data row12 col15\" >-0.143716</td>\n",
       "      <td id=\"T_e5991_row12_col16\" class=\"data row12 col16\" >0.414304</td>\n",
       "      <td id=\"T_e5991_row12_col17\" class=\"data row12 col17\" >0.327118</td>\n",
       "      <td id=\"T_e5991_row12_col18\" class=\"data row12 col18\" >0.070509</td>\n",
       "      <td id=\"T_e5991_row12_col19\" class=\"data row12 col19\" >0.054027</td>\n",
       "    </tr>\n",
       "    <tr>\n",
       "      <th id=\"T_e5991_level0_row13\" class=\"row_heading level0 row13\" >yr_renovated</th>\n",
       "      <td id=\"T_e5991_row13_col0\" class=\"data row13 col0\" >-0.020949</td>\n",
       "      <td id=\"T_e5991_row13_col1\" class=\"data row13 col1\" >0.020731</td>\n",
       "      <td id=\"T_e5991_row13_col2\" class=\"data row13 col2\" >0.053835</td>\n",
       "      <td id=\"T_e5991_row13_col3\" class=\"data row13 col3\" >0.058308</td>\n",
       "      <td id=\"T_e5991_row13_col4\" class=\"data row13 col4\" >0.018193</td>\n",
       "      <td id=\"T_e5991_row13_col5\" class=\"data row13 col5\" >0.010396</td>\n",
       "      <td id=\"T_e5991_row13_col6\" class=\"data row13 col6\" >0.093086</td>\n",
       "      <td id=\"T_e5991_row13_col7\" class=\"data row13 col7\" >0.103048</td>\n",
       "      <td id=\"T_e5991_row13_col8\" class=\"data row13 col8\" >-0.056964</td>\n",
       "      <td id=\"T_e5991_row13_col9\" class=\"data row13 col9\" >0.016486</td>\n",
       "      <td id=\"T_e5991_row13_col10\" class=\"data row13 col10\" >0.025531</td>\n",
       "      <td id=\"T_e5991_row13_col11\" class=\"data row13 col11\" >0.073032</td>\n",
       "      <td id=\"T_e5991_row13_col12\" class=\"data row13 col12\" >-0.228484</td>\n",
       "      <td id=\"T_e5991_row13_col13\" class=\"data row13 col13\" >1.000000</td>\n",
       "      <td id=\"T_e5991_row13_col14\" class=\"data row13 col14\" >0.061308</td>\n",
       "      <td id=\"T_e5991_row13_col15\" class=\"data row13 col15\" >0.032613</td>\n",
       "      <td id=\"T_e5991_row13_col16\" class=\"data row13 col16\" >-0.073766</td>\n",
       "      <td id=\"T_e5991_row13_col17\" class=\"data row13 col17\" >0.001394</td>\n",
       "      <td id=\"T_e5991_row13_col18\" class=\"data row13 col18\" >0.014465</td>\n",
       "      <td id=\"T_e5991_row13_col19\" class=\"data row13 col19\" >0.133591</td>\n",
       "    </tr>\n",
       "    <tr>\n",
       "      <th id=\"T_e5991_level0_row14\" class=\"row_heading level0 row14\" >zipcode</th>\n",
       "      <td id=\"T_e5991_row14_col0\" class=\"data row14 col0\" >-0.006167</td>\n",
       "      <td id=\"T_e5991_row14_col1\" class=\"data row14 col1\" >-0.156328</td>\n",
       "      <td id=\"T_e5991_row14_col2\" class=\"data row14 col2\" >-0.206184</td>\n",
       "      <td id=\"T_e5991_row14_col3\" class=\"data row14 col3\" >-0.207492</td>\n",
       "      <td id=\"T_e5991_row14_col4\" class=\"data row14 col4\" >-0.135460</td>\n",
       "      <td id=\"T_e5991_row14_col5\" class=\"data row14 col5\" >-0.056917</td>\n",
       "      <td id=\"T_e5991_row14_col6\" class=\"data row14 col6\" >0.025594</td>\n",
       "      <td id=\"T_e5991_row14_col7\" class=\"data row14 col7\" >0.082747</td>\n",
       "      <td id=\"T_e5991_row14_col8\" class=\"data row14 col8\" >0.005112</td>\n",
       "      <td id=\"T_e5991_row14_col9\" class=\"data row14 col9\" >-0.184321</td>\n",
       "      <td id=\"T_e5991_row14_col10\" class=\"data row14 col10\" >-0.266599</td>\n",
       "      <td id=\"T_e5991_row14_col11\" class=\"data row14 col11\" >0.071570</td>\n",
       "      <td id=\"T_e5991_row14_col12\" class=\"data row14 col12\" >-0.342671</td>\n",
       "      <td id=\"T_e5991_row14_col13\" class=\"data row14 col13\" >0.061308</td>\n",
       "      <td id=\"T_e5991_row14_col14\" class=\"data row14 col14\" >1.000000</td>\n",
       "      <td id=\"T_e5991_row14_col15\" class=\"data row14 col15\" >0.266539</td>\n",
       "      <td id=\"T_e5991_row14_col16\" class=\"data row14 col16\" >-0.566618</td>\n",
       "      <td id=\"T_e5991_row14_col17\" class=\"data row14 col17\" >-0.285756</td>\n",
       "      <td id=\"T_e5991_row14_col18\" class=\"data row14 col18\" >-0.149803</td>\n",
       "      <td id=\"T_e5991_row14_col19\" class=\"data row14 col19\" >-0.058103</td>\n",
       "    </tr>\n",
       "    <tr>\n",
       "      <th id=\"T_e5991_level0_row15\" class=\"row_heading level0 row15\" >lat</th>\n",
       "      <td id=\"T_e5991_row15_col0\" class=\"data row15 col0\" >-0.003780</td>\n",
       "      <td id=\"T_e5991_row15_col1\" class=\"data row15 col1\" >-0.013708</td>\n",
       "      <td id=\"T_e5991_row15_col2\" class=\"data row15 col2\" >0.026642</td>\n",
       "      <td id=\"T_e5991_row15_col3\" class=\"data row15 col3\" >0.053754</td>\n",
       "      <td id=\"T_e5991_row15_col4\" class=\"data row15 col4\" >-0.083162</td>\n",
       "      <td id=\"T_e5991_row15_col5\" class=\"data row15 col5\" >0.053110</td>\n",
       "      <td id=\"T_e5991_row15_col6\" class=\"data row15 col6\" >-0.018708</td>\n",
       "      <td id=\"T_e5991_row15_col7\" class=\"data row15 col7\" >-0.000164</td>\n",
       "      <td id=\"T_e5991_row15_col8\" class=\"data row15 col8\" >-0.024375</td>\n",
       "      <td id=\"T_e5991_row15_col9\" class=\"data row15 col9\" >0.119504</td>\n",
       "      <td id=\"T_e5991_row15_col10\" class=\"data row15 col10\" >-0.001954</td>\n",
       "      <td id=\"T_e5991_row15_col11\" class=\"data row15 col11\" >0.115402</td>\n",
       "      <td id=\"T_e5991_row15_col12\" class=\"data row15 col12\" >-0.143716</td>\n",
       "      <td id=\"T_e5991_row15_col13\" class=\"data row15 col13\" >0.032613</td>\n",
       "      <td id=\"T_e5991_row15_col14\" class=\"data row15 col14\" >0.266539</td>\n",
       "      <td id=\"T_e5991_row15_col15\" class=\"data row15 col15\" >1.000000</td>\n",
       "      <td id=\"T_e5991_row15_col16\" class=\"data row15 col16\" >-0.140361</td>\n",
       "      <td id=\"T_e5991_row15_col17\" class=\"data row15 col17\" >0.050581</td>\n",
       "      <td id=\"T_e5991_row15_col18\" class=\"data row15 col18\" >-0.088354</td>\n",
       "      <td id=\"T_e5991_row15_col19\" class=\"data row15 col19\" >0.308692</td>\n",
       "    </tr>\n",
       "    <tr>\n",
       "      <th id=\"T_e5991_level0_row16\" class=\"row_heading level0 row16\" >long</th>\n",
       "      <td id=\"T_e5991_row16_col0\" class=\"data row16 col0\" >0.017019</td>\n",
       "      <td id=\"T_e5991_row16_col1\" class=\"data row16 col1\" >0.130304</td>\n",
       "      <td id=\"T_e5991_row16_col2\" class=\"data row16 col2\" >0.225798</td>\n",
       "      <td id=\"T_e5991_row16_col3\" class=\"data row16 col3\" >0.250673</td>\n",
       "      <td id=\"T_e5991_row16_col4\" class=\"data row16 col4\" >0.247345</td>\n",
       "      <td id=\"T_e5991_row16_col5\" class=\"data row16 col5\" >0.124653</td>\n",
       "      <td id=\"T_e5991_row16_col6\" class=\"data row16 col6\" >-0.044188</td>\n",
       "      <td id=\"T_e5991_row16_col7\" class=\"data row16 col7\" >-0.085184</td>\n",
       "      <td id=\"T_e5991_row16_col8\" class=\"data row16 col8\" >-0.110116</td>\n",
       "      <td id=\"T_e5991_row16_col9\" class=\"data row16 col9\" >0.204767</td>\n",
       "      <td id=\"T_e5991_row16_col10\" class=\"data row16 col10\" >0.354479</td>\n",
       "      <td id=\"T_e5991_row16_col11\" class=\"data row16 col11\" >-0.147589</td>\n",
       "      <td id=\"T_e5991_row16_col12\" class=\"data row16 col12\" >0.414304</td>\n",
       "      <td id=\"T_e5991_row16_col13\" class=\"data row16 col13\" >-0.073766</td>\n",
       "      <td id=\"T_e5991_row16_col14\" class=\"data row16 col14\" >-0.566618</td>\n",
       "      <td id=\"T_e5991_row16_col15\" class=\"data row16 col15\" >-0.140361</td>\n",
       "      <td id=\"T_e5991_row16_col16\" class=\"data row16 col16\" >1.000000</td>\n",
       "      <td id=\"T_e5991_row16_col17\" class=\"data row16 col17\" >0.351004</td>\n",
       "      <td id=\"T_e5991_row16_col18\" class=\"data row16 col18\" >0.259524</td>\n",
       "      <td id=\"T_e5991_row16_col19\" class=\"data row16 col19\" >0.030219</td>\n",
       "    </tr>\n",
       "    <tr>\n",
       "      <th id=\"T_e5991_level0_row17\" class=\"row_heading level0 row17\" >sqft_living15</th>\n",
       "      <td id=\"T_e5991_row17_col0\" class=\"data row17 col0\" >-0.002518</td>\n",
       "      <td id=\"T_e5991_row17_col1\" class=\"data row17 col1\" >0.384261</td>\n",
       "      <td id=\"T_e5991_row17_col2\" class=\"data row17 col2\" >0.565191</td>\n",
       "      <td id=\"T_e5991_row17_col3\" class=\"data row17 col3\" >0.755621</td>\n",
       "      <td id=\"T_e5991_row17_col4\" class=\"data row17 col4\" >0.157513</td>\n",
       "      <td id=\"T_e5991_row17_col5\" class=\"data row17 col5\" >0.272619</td>\n",
       "      <td id=\"T_e5991_row17_col6\" class=\"data row17 col6\" >0.071134</td>\n",
       "      <td id=\"T_e5991_row17_col7\" class=\"data row17 col7\" >0.274204</td>\n",
       "      <td id=\"T_e5991_row17_col8\" class=\"data row17 col8\" >-0.099168</td>\n",
       "      <td id=\"T_e5991_row17_col9\" class=\"data row17 col9\" >0.708890</td>\n",
       "      <td id=\"T_e5991_row17_col10\" class=\"data row17 col10\" >0.730893</td>\n",
       "      <td id=\"T_e5991_row17_col11\" class=\"data row17 col11\" >0.191927</td>\n",
       "      <td id=\"T_e5991_row17_col12\" class=\"data row17 col12\" >0.327118</td>\n",
       "      <td id=\"T_e5991_row17_col13\" class=\"data row17 col13\" >0.001394</td>\n",
       "      <td id=\"T_e5991_row17_col14\" class=\"data row17 col14\" >-0.285756</td>\n",
       "      <td id=\"T_e5991_row17_col15\" class=\"data row17 col15\" >0.050581</td>\n",
       "      <td id=\"T_e5991_row17_col16\" class=\"data row17 col16\" >0.351004</td>\n",
       "      <td id=\"T_e5991_row17_col17\" class=\"data row17 col17\" >1.000000</td>\n",
       "      <td id=\"T_e5991_row17_col18\" class=\"data row17 col18\" >0.188396</td>\n",
       "      <td id=\"T_e5991_row17_col19\" class=\"data row17 col19\" >0.581954</td>\n",
       "    </tr>\n",
       "    <tr>\n",
       "      <th id=\"T_e5991_level0_row18\" class=\"row_heading level0 row18\" >sqft_lot15</th>\n",
       "      <td id=\"T_e5991_row18_col0\" class=\"data row18 col0\" >-0.144802</td>\n",
       "      <td id=\"T_e5991_row18_col1\" class=\"data row18 col1\" >0.026539</td>\n",
       "      <td id=\"T_e5991_row18_col2\" class=\"data row18 col2\" >0.076886</td>\n",
       "      <td id=\"T_e5991_row18_col3\" class=\"data row18 col3\" >0.174586</td>\n",
       "      <td id=\"T_e5991_row18_col4\" class=\"data row18 col4\" >0.719088</td>\n",
       "      <td id=\"T_e5991_row18_col5\" class=\"data row18 col5\" >-0.011695</td>\n",
       "      <td id=\"T_e5991_row18_col6\" class=\"data row18 col6\" >0.033691</td>\n",
       "      <td id=\"T_e5991_row18_col7\" class=\"data row18 col7\" >0.064159</td>\n",
       "      <td id=\"T_e5991_row18_col8\" class=\"data row18 col8\" >-0.008460</td>\n",
       "      <td id=\"T_e5991_row18_col9\" class=\"data row18 col9\" >0.114707</td>\n",
       "      <td id=\"T_e5991_row18_col10\" class=\"data row18 col10\" >0.185736</td>\n",
       "      <td id=\"T_e5991_row18_col11\" class=\"data row18 col11\" >0.012540</td>\n",
       "      <td id=\"T_e5991_row18_col12\" class=\"data row18 col12\" >0.070509</td>\n",
       "      <td id=\"T_e5991_row18_col13\" class=\"data row18 col13\" >0.014465</td>\n",
       "      <td id=\"T_e5991_row18_col14\" class=\"data row18 col14\" >-0.149803</td>\n",
       "      <td id=\"T_e5991_row18_col15\" class=\"data row18 col15\" >-0.088354</td>\n",
       "      <td id=\"T_e5991_row18_col16\" class=\"data row18 col16\" >0.259524</td>\n",
       "      <td id=\"T_e5991_row18_col17\" class=\"data row18 col17\" >0.188396</td>\n",
       "      <td id=\"T_e5991_row18_col18\" class=\"data row18 col18\" >1.000000</td>\n",
       "      <td id=\"T_e5991_row18_col19\" class=\"data row18 col19\" >0.077863</td>\n",
       "    </tr>\n",
       "    <tr>\n",
       "      <th id=\"T_e5991_level0_row19\" class=\"row_heading level0 row19\" >price</th>\n",
       "      <td id=\"T_e5991_row19_col0\" class=\"data row19 col0\" >-0.018126</td>\n",
       "      <td id=\"T_e5991_row19_col1\" class=\"data row19 col1\" >0.305965</td>\n",
       "      <td id=\"T_e5991_row19_col2\" class=\"data row19 col2\" >0.527273</td>\n",
       "      <td id=\"T_e5991_row19_col3\" class=\"data row19 col3\" >0.704987</td>\n",
       "      <td id=\"T_e5991_row19_col4\" class=\"data row19 col4\" >0.091672</td>\n",
       "      <td id=\"T_e5991_row19_col5\" class=\"data row19 col5\" >0.253288</td>\n",
       "      <td id=\"T_e5991_row19_col6\" class=\"data row19 col6\" >0.244587</td>\n",
       "      <td id=\"T_e5991_row19_col7\" class=\"data row19 col7\" >0.389611</td>\n",
       "      <td id=\"T_e5991_row19_col8\" class=\"data row19 col8\" >0.028958</td>\n",
       "      <td id=\"T_e5991_row19_col9\" class=\"data row19 col9\" >0.667772</td>\n",
       "      <td id=\"T_e5991_row19_col10\" class=\"data row19 col10\" >0.607814</td>\n",
       "      <td id=\"T_e5991_row19_col11\" class=\"data row19 col11\" >0.318828</td>\n",
       "      <td id=\"T_e5991_row19_col12\" class=\"data row19 col12\" >0.054027</td>\n",
       "      <td id=\"T_e5991_row19_col13\" class=\"data row19 col13\" >0.133591</td>\n",
       "      <td id=\"T_e5991_row19_col14\" class=\"data row19 col14\" >-0.058103</td>\n",
       "      <td id=\"T_e5991_row19_col15\" class=\"data row19 col15\" >0.308692</td>\n",
       "      <td id=\"T_e5991_row19_col16\" class=\"data row19 col16\" >0.030219</td>\n",
       "      <td id=\"T_e5991_row19_col17\" class=\"data row19 col17\" >0.581954</td>\n",
       "      <td id=\"T_e5991_row19_col18\" class=\"data row19 col18\" >0.077863</td>\n",
       "      <td id=\"T_e5991_row19_col19\" class=\"data row19 col19\" >1.000000</td>\n",
       "    </tr>\n",
       "  </tbody>\n",
       "</table>\n"
      ],
      "text/plain": [
       "<pandas.io.formats.style.Styler at 0x1f949c66370>"
      ]
     },
     "execution_count": 18,
     "metadata": {},
     "output_type": "execute_result"
    }
   ],
   "source": [
    "corr= Xy_train.corr()\n",
    "corr.style.background_gradient()"
   ]
  },
  {
   "cell_type": "code",
   "execution_count": 19,
   "id": "b0f83f25",
   "metadata": {
    "scrolled": true
   },
   "outputs": [
    {
     "data": {
      "text/plain": [
       "id              -0.018126\n",
       "bedrooms         0.305965\n",
       "bathrooms        0.527273\n",
       "sqft_living      0.704987\n",
       "sqft_lot         0.091672\n",
       "floors           0.253288\n",
       "waterfront       0.244587\n",
       "view             0.389611\n",
       "condition        0.028958\n",
       "grade            0.667772\n",
       "sqft_above       0.607814\n",
       "sqft_basement    0.318828\n",
       "yr_built         0.054027\n",
       "yr_renovated     0.133591\n",
       "zipcode         -0.058103\n",
       "lat              0.308692\n",
       "long             0.030219\n",
       "sqft_living15    0.581954\n",
       "sqft_lot15       0.077863\n",
       "price            1.000000\n",
       "Name: price, dtype: float64"
      ]
     },
     "execution_count": 19,
     "metadata": {},
     "output_type": "execute_result"
    }
   ],
   "source": [
    "#Check Correlation with Price\n",
    "Xy_train.corr().price"
   ]
  },
  {
   "cell_type": "markdown",
   "id": "d7d36068",
   "metadata": {},
   "source": [
    "##### 7b.<u>Relationship of Numerical variables with Price"
   ]
  },
  {
   "cell_type": "markdown",
   "id": "9da0648f",
   "metadata": {},
   "source": [
    "##### <u>Scatter Plot"
   ]
  },
  {
   "cell_type": "code",
   "execution_count": 20,
   "id": "881e4725",
   "metadata": {},
   "outputs": [
    {
     "data": {
      "image/png": "[encoded data removed]",
      "text/plain": [
       "<Figure size 432x288 with 1 Axes>"
      ]
     },
     "metadata": {
      "needs_background": "light"
     },
     "output_type": "display_data"
    },
    {
     "data": {
      "image/png": "[encoded data removed]",
      "text/plain": [
       "<Figure size 432x288 with 1 Axes>"
      ]
     },
     "metadata": {
      "needs_background": "light"
     },
     "output_type": "display_data"
    },
    {
     "data": {
      "image/png": "[encoded data removed]",
      "text/plain": [
       "<Figure size 432x288 with 1 Axes>"
      ]
     },
     "metadata": {
      "needs_background": "light"
     },
     "output_type": "display_data"
    },
    {
     "data": {
      "image/png": "[encoded data removed]",
      "text/plain": [
       "<Figure size 432x288 with 1 Axes>"
      ]
     },
     "metadata": {
      "needs_background": "light"
     },
     "output_type": "display_data"
    },
    {
     "data": {
      "image/png": "[encoded data removed]",
      "text/plain": [
       "<Figure size 432x288 with 1 Axes>"
      ]
     },
     "metadata": {
      "needs_background": "light"
     },
     "output_type": "display_data"
    },
    {
     "data": {
      "image/png": "[encoded data removed]",
      "text/plain": [
       "<Figure size 432x288 with 1 Axes>"
      ]
     },
     "metadata": {
      "needs_background": "light"
     },
     "output_type": "display_data"
    }
   ],
   "source": [
    "#To understand relationship between Price and Other Continuous numerical variable in the train data\n",
    "num_var = ['sqft_living','sqft_lot','sqft_above','sqft_basement','sqft_living15','sqft_lot15']\n",
    "target = ['price']\n",
    "\n",
    "for i in num_var:\n",
    "    plt.title(i+\"num_var\"+\"Vs\"+\"price\",fontsize=16)\n",
    "    sns.scatterplot(Xy_train[i],Xy_train.price)\n",
    "    plt.xlabel(str(i),fontsize=20)\n",
    "    plt.ylabel(\"Price\",fontsize=20)\n",
    "    plt.show()"
   ]
  },
  {
   "cell_type": "markdown",
   "id": "ff95c555",
   "metadata": {},
   "source": [
    "##### 7c.<u>Relationship of Discrete numerical variables with Price"
   ]
  },
  {
   "cell_type": "code",
   "execution_count": 21,
   "id": "6c128005",
   "metadata": {},
   "outputs": [
    {
     "data": {
      "image/png": "[encoded data removed]",
      "text/plain": [
       "<Figure size 864x576 with 1 Axes>"
      ]
     },
     "metadata": {
      "needs_background": "light"
     },
     "output_type": "display_data"
    },
    {
     "data": {
      "image/png": "[encoded data removed]",
      "text/plain": [
       "<Figure size 864x576 with 1 Axes>"
      ]
     },
     "metadata": {
      "needs_background": "light"
     },
     "output_type": "display_data"
    },
    {
     "data": {
      "image/png": "[encoded data removed]",
      "text/plain": [
       "<Figure size 864x576 with 1 Axes>"
      ]
     },
     "metadata": {
      "needs_background": "light"
     },
     "output_type": "display_data"
    }
   ],
   "source": [
    "disc_num = ['bedrooms','bathrooms','floors']\n",
    "for i in disc_num :    \n",
    "    Xy_train.groupby([i])['price'].mean().plot(kind='bar',figsize=(12,8),color=\"blue\",fontsize=10,edgecolor=\"black\")\n",
    "    plt.xlabel(i,fontsize=12)\n",
    "    plt.ylabel('Avg price',fontsize=12)\n",
    "    plt.title('Avg Price '+ 'vs '+ i ,fontsize=14)\n",
    "    plt.show()"
   ]
  },
  {
   "cell_type": "markdown",
   "id": "782c4c8a",
   "metadata": {},
   "source": [
    "##### 7d.<u> Relationship of Categorical variables with Price"
   ]
  },
  {
   "cell_type": "code",
   "execution_count": 22,
   "id": "00ac052c",
   "metadata": {},
   "outputs": [],
   "source": [
    "#Bar plot"
   ]
  },
  {
   "cell_type": "code",
   "execution_count": 23,
   "id": "7e661112",
   "metadata": {},
   "outputs": [
    {
     "data": {
      "image/png": "[encoded data removed]",
      "text/plain": [
       "<Figure size 864x576 with 1 Axes>"
      ]
     },
     "metadata": {
      "needs_background": "light"
     },
     "output_type": "display_data"
    },
    {
     "data": {
      "image/png": "[encoded data removed]",
      "text/plain": [
       "<Figure size 864x576 with 1 Axes>"
      ]
     },
     "metadata": {
      "needs_background": "light"
     },
     "output_type": "display_data"
    },
    {
     "data": {
      "image/png": "[encoded data removed]",
      "text/plain": [
       "<Figure size 864x576 with 1 Axes>"
      ]
     },
     "metadata": {
      "needs_background": "light"
     },
     "output_type": "display_data"
    },
    {
     "data": {
      "image/png": "[encoded data removed]",
      "text/plain": [
       "<Figure size 864x576 with 1 Axes>"
      ]
     },
     "metadata": {
      "needs_background": "light"
     },
     "output_type": "display_data"
    },
    {
     "data": {
      "image/png": "[encoded data removed]",
      "text/plain": [
       "<Figure size 864x576 with 1 Axes>"
      ]
     },
     "metadata": {
      "needs_background": "light"
     },
     "output_type": "display_data"
    },
    {
     "data": {
      "image/png": "[encoded data removed]",
      "text/plain": [
       "<Figure size 864x576 with 1 Axes>"
      ]
     },
     "metadata": {
      "needs_background": "light"
     },
     "output_type": "display_data"
    }
   ],
   "source": [
    "# Groupby aggregate summary in barplot (Discret)\n",
    "\n",
    "cat_disc = ['waterfront', 'view', 'condition', 'grade','yr_built', 'yr_renovated']\n",
    "\n",
    "for i in cat_disc:    \n",
    "    Xy_train.groupby([i])['price'].mean().plot(kind='bar',figsize=(12,8),color=\"blue\",fontsize=10,edgecolor=\"black\")\n",
    "    plt.xlabel(i,fontsize=12)\n",
    "    plt.ylabel('Avg price',fontsize=12)\n",
    "    plt.title('Avg Price'+ 'vs'+i ,fontsize=14)\n",
    "    plt.show()"
   ]
  },
  {
   "cell_type": "code",
   "execution_count": 24,
   "id": "f5f7a14c",
   "metadata": {},
   "outputs": [],
   "source": [
    "#Box Plot"
   ]
  },
  {
   "cell_type": "code",
   "execution_count": 25,
   "id": "d9d6b212",
   "metadata": {},
   "outputs": [
    {
     "data": {
      "image/png": "[encoded data removed]",
      "text/plain": [
       "<Figure size 1080x288 with 1 Axes>"
      ]
     },
     "metadata": {
      "needs_background": "light"
     },
     "output_type": "display_data"
    },
    {
     "data": {
      "image/png": "[encoded data removed]",
      "text/plain": [
       "<Figure size 1080x288 with 1 Axes>"
      ]
     },
     "metadata": {
      "needs_background": "light"
     },
     "output_type": "display_data"
    },
    {
     "data": {
      "image/png": "[encoded data removed]",
      "text/plain": [
       "<Figure size 1080x288 with 1 Axes>"
      ]
     },
     "metadata": {
      "needs_background": "light"
     },
     "output_type": "display_data"
    },
    {
     "data": {
      "image/png": "[encoded data removed]",
      "text/plain": [
       "<Figure size 1080x288 with 1 Axes>"
      ]
     },
     "metadata": {
      "needs_background": "light"
     },
     "output_type": "display_data"
    },
    {
     "data": {
      "image/png": "[encoded data removed]",
      "text/plain": [
       "<Figure size 1080x288 with 1 Axes>"
      ]
     },
     "metadata": {
      "needs_background": "light"
     },
     "output_type": "display_data"
    },
    {
     "data": {
      "image/png": "[encoded data removed]",
      "text/plain": [
       "<Figure size 1080x288 with 1 Axes>"
      ]
     },
     "metadata": {
      "needs_background": "light"
     },
     "output_type": "display_data"
    },
    {
     "data": {
      "image/png": "[encoded data removed]",
      "text/plain": [
       "<Figure size 1080x288 with 1 Axes>"
      ]
     },
     "metadata": {
      "needs_background": "light"
     },
     "output_type": "display_data"
    },
    {
     "data": {
      "image/png": "[encoded data removed]",
      "text/plain": [
       "<Figure size 1080x288 with 1 Axes>"
      ]
     },
     "metadata": {
      "needs_background": "light"
     },
     "output_type": "display_data"
    },
    {
     "data": {
      "image/png": "[encoded data removed]",
      "text/plain": [
       "<Figure size 1080x288 with 1 Axes>"
      ]
     },
     "metadata": {
      "needs_background": "light"
     },
     "output_type": "display_data"
    }
   ],
   "source": [
    "cat_disc = ['bedrooms','bathrooms','floors', 'waterfront', 'view', 'condition', 'grade','yr_built', 'yr_renovated']\n",
    "\n",
    "for i in cat_disc:\n",
    "    Xy_train.boxplot(column = \"price\",by = i,grid = False,figsize = (15,4),rot =0) \n",
    "    plt.ylabel(\"price\",fontsize =12)\n",
    "    plt.show()"
   ]
  },
  {
   "cell_type": "code",
   "execution_count": 26,
   "id": "7fc400bf",
   "metadata": {},
   "outputs": [],
   "source": [
    "#INSIGHTS"
   ]
  },
  {
   "cell_type": "code",
   "execution_count": 27,
   "id": "b9239cf8",
   "metadata": {},
   "outputs": [],
   "source": [
    "#CORRELATION:\n",
    "#Strength of correlation 0.5 and above _ [sqft_living15,sqft_above,grade,sqft_living,bathrooms] vs price\n",
    "#Strength of correlation 0.2 to 0.49 _ [sqft_basement,view,waterfront,floors,bedrooms] vs price\n",
    "#Strength of correlation 0 to 0.19 _ [sqft_lot15,yr_renovated,yr_built,condition,sqft_lot] vs price\n",
    "#Negative correlation _ [Nil]\n",
    "#Other variables _ [long,lat,zipcode,id,date]"
   ]
  },
  {
   "cell_type": "markdown",
   "id": "3b201ab6",
   "metadata": {},
   "source": [
    "#### 8.VALIDATION SPLIT FROM TRAIN DATA"
   ]
  },
  {
   "cell_type": "code",
   "execution_count": 28,
   "id": "909a19a2",
   "metadata": {},
   "outputs": [],
   "source": [
    "#From the train data now we can split the validation data which can be used to validate the trained model over this data.\n",
    "#The test data kept under complete darkness for final testing of the model.\n",
    "#Here we are again making 70:30 split,which is 30% of 70% which is 0.43\n",
    "X_train,X_valid,y_train,y_valid = train_test_split(X_train,y_train,test_size=0.43,random_state=42) "
   ]
  },
  {
   "cell_type": "code",
   "execution_count": 29,
   "id": "1635e335",
   "metadata": {},
   "outputs": [
    {
     "name": "stdout",
     "output_type": "stream",
     "text": [
      "X_train: (8623, 20)\n",
      "X_valid: (6506, 20)\n",
      "y_train: (8623,)\n",
      "y_valid: (6506,)\n"
     ]
    }
   ],
   "source": [
    "print(\"X_train:\",X_train.shape)\n",
    "print(\"X_valid:\",X_valid.shape)\n",
    "print(\"y_train:\",y_train.shape)\n",
    "print(\"y_valid:\",y_valid.shape)"
   ]
  },
  {
   "cell_type": "markdown",
   "id": "5a391150",
   "metadata": {},
   "source": [
    "#### 9.DATA PREPROCESSING (X_train)"
   ]
  },
  {
   "cell_type": "code",
   "execution_count": 30,
   "id": "fce6740c",
   "metadata": {},
   "outputs": [
    {
     "data": {
      "text/plain": [
       "id               0\n",
       "date             0\n",
       "bedrooms         0\n",
       "bathrooms        0\n",
       "sqft_living      0\n",
       "sqft_lot         0\n",
       "floors           0\n",
       "waterfront       0\n",
       "view             0\n",
       "condition        0\n",
       "grade            0\n",
       "sqft_above       1\n",
       "sqft_basement    0\n",
       "yr_built         0\n",
       "yr_renovated     0\n",
       "zipcode          0\n",
       "lat              0\n",
       "long             0\n",
       "sqft_living15    0\n",
       "sqft_lot15       0\n",
       "dtype: int64"
      ]
     },
     "execution_count": 30,
     "metadata": {},
     "output_type": "execute_result"
    }
   ],
   "source": [
    "#Checking for Null values\n",
    "X_train.isnull().sum()"
   ]
  },
  {
   "cell_type": "code",
   "execution_count": 31,
   "id": "1593525d",
   "metadata": {},
   "outputs": [
    {
     "data": {
      "text/plain": [
       "0"
      ]
     },
     "execution_count": 31,
     "metadata": {},
     "output_type": "execute_result"
    }
   ],
   "source": [
    "#Checking for Duplicates\n",
    "X_train.duplicated().sum()"
   ]
  },
  {
   "cell_type": "markdown",
   "id": "66f62d9d",
   "metadata": {},
   "source": [
    "##### <u>9.a.Fixing the dataset"
   ]
  },
  {
   "cell_type": "code",
   "execution_count": 32,
   "id": "3dd09d6f",
   "metadata": {},
   "outputs": [
    {
     "data": {
      "text/plain": [
       "<AxesSubplot:xlabel='sqft_above'>"
      ]
     },
     "execution_count": 32,
     "metadata": {},
     "output_type": "execute_result"
    },
    {
     "data": {
      "image/png": "[encoded data removed]",
      "text/plain": [
       "<Figure size 432x288 with 1 Axes>"
      ]
     },
     "metadata": {
      "needs_background": "light"
     },
     "output_type": "display_data"
    }
   ],
   "source": [
    "# Boxplot to understand the distribution of data for filling the missing values\n",
    "sns.boxplot(X_train[\"sqft_above\"])"
   ]
  },
  {
   "cell_type": "code",
   "execution_count": 33,
   "id": "c175e504",
   "metadata": {},
   "outputs": [],
   "source": [
    "#Filling null with median value of sqft_above since the data is skewed\n",
    "X_train[\"sqft_above\"].fillna(int(X_train[\"sqft_above\"].median()),inplace=True)"
   ]
  },
  {
   "cell_type": "code",
   "execution_count": 34,
   "id": "dd4fedd6",
   "metadata": {},
   "outputs": [
    {
     "data": {
      "text/plain": [
       "id               0\n",
       "date             0\n",
       "bedrooms         0\n",
       "bathrooms        0\n",
       "sqft_living      0\n",
       "sqft_lot         0\n",
       "floors           0\n",
       "waterfront       0\n",
       "view             0\n",
       "condition        0\n",
       "grade            0\n",
       "sqft_above       0\n",
       "sqft_basement    0\n",
       "yr_built         0\n",
       "yr_renovated     0\n",
       "zipcode          0\n",
       "lat              0\n",
       "long             0\n",
       "sqft_living15    0\n",
       "sqft_lot15       0\n",
       "dtype: int64"
      ]
     },
     "execution_count": 34,
     "metadata": {},
     "output_type": "execute_result"
    }
   ],
   "source": [
    "#Checking for Null values again \n",
    "X_train.isnull().sum()"
   ]
  },
  {
   "cell_type": "markdown",
   "id": "b1fdb3d5",
   "metadata": {},
   "source": [
    "#### 10. MODEL FITTING"
   ]
  },
  {
   "cell_type": "markdown",
   "id": "8ceef9a9",
   "metadata": {},
   "source": [
    "#### 10.A.LINEAR REGRESSION"
   ]
  },
  {
   "cell_type": "markdown",
   "id": "bb19b24c",
   "metadata": {},
   "source": [
    "#### <U> TRIAL 1\n",
    "#### Fitting with all variables"
   ]
  },
  {
   "cell_type": "code",
   "execution_count": 35,
   "id": "573d83b9",
   "metadata": {},
   "outputs": [],
   "source": [
    "# Drop the variable date(string)\n",
    "X_train = X_train.drop(\"date\",axis=1)"
   ]
  },
  {
   "cell_type": "code",
   "execution_count": 36,
   "id": "a75dbadf",
   "metadata": {},
   "outputs": [
    {
     "data": {
      "text/plain": [
       "Index(['id', 'bedrooms', 'bathrooms', 'sqft_living', 'sqft_lot', 'floors',\n",
       "       'waterfront', 'view', 'condition', 'grade', 'sqft_above',\n",
       "       'sqft_basement', 'yr_built', 'yr_renovated', 'zipcode', 'lat', 'long',\n",
       "       'sqft_living15', 'sqft_lot15'],\n",
       "      dtype='object')"
      ]
     },
     "execution_count": 36,
     "metadata": {},
     "output_type": "execute_result"
    }
   ],
   "source": [
    "#Variables used in Trial1\n",
    "X_train.columns"
   ]
  },
  {
   "cell_type": "code",
   "execution_count": 37,
   "id": "6729f52b",
   "metadata": {},
   "outputs": [],
   "source": [
    "#Importing Linear Regression from Skict learn library\n",
    "from sklearn.linear_model import LinearRegression"
   ]
  },
  {
   "cell_type": "markdown",
   "id": "c76446fb",
   "metadata": {},
   "source": [
    "##### <U>MODEL TRAINING"
   ]
  },
  {
   "cell_type": "code",
   "execution_count": 38,
   "id": "06c6dcb4",
   "metadata": {},
   "outputs": [
    {
     "data": {
      "text/plain": [
       "LinearRegression()"
      ]
     },
     "execution_count": 38,
     "metadata": {},
     "output_type": "execute_result"
    }
   ],
   "source": [
    "#Fitting the linear model to the train dataset for the model to get trained\n",
    "reg = LinearRegression()\n",
    "reg.fit(X_train,y_train)"
   ]
  },
  {
   "cell_type": "code",
   "execution_count": 43,
   "id": "c46633be",
   "metadata": {},
   "outputs": [
    {
     "data": {
      "text/plain": [
       "7158365.757548378"
      ]
     },
     "execution_count": 43,
     "metadata": {},
     "output_type": "execute_result"
    }
   ],
   "source": [
    "#Point of intercept of the Regression line over yaxis\n",
    "reg.intercept_"
   ]
  },
  {
   "cell_type": "code",
   "execution_count": 44,
   "id": "af829ca8",
   "metadata": {},
   "outputs": [
    {
     "data": {
      "text/plain": [
       "array([-1.82984804e-06, -3.37297581e+04,  2.81931296e+04, -5.51316416e+02,\n",
       "        1.29541482e-02,  6.73729584e+03,  5.42686369e+05,  5.15477139e+04,\n",
       "        2.49780155e+04,  9.53483504e+04,  7.43814336e+02,  7.11727296e+02,\n",
       "       -2.52132869e+03,  2.52184731e+01, -5.89745461e+02,  5.91224747e+05,\n",
       "       -2.19914130e+05,  1.41376190e+01, -3.78464431e-01])"
      ]
     },
     "execution_count": 44,
     "metadata": {},
     "output_type": "execute_result"
    }
   ],
   "source": [
    "#the regressors of each predictor variable  which determines the prediction\n",
    "reg.coef_"
   ]
  },
  {
   "cell_type": "code",
   "execution_count": 45,
   "id": "c363437f",
   "metadata": {},
   "outputs": [
    {
     "data": {
      "text/plain": [
       "0.690243887337994"
      ]
     },
     "execution_count": 45,
     "metadata": {},
     "output_type": "execute_result"
    }
   ],
   "source": [
    "#Rsquare value gives the fitness of the model with data(proportion of explained error over total error in prediction)\n",
    "reg.score(X_train,y_train)"
   ]
  },
  {
   "cell_type": "markdown",
   "id": "8636e8a6",
   "metadata": {},
   "source": [
    "##### <U> MODEL VALIDATION"
   ]
  },
  {
   "cell_type": "markdown",
   "id": "1bbce51b",
   "metadata": {},
   "source": [
    "#### 1)Train data (Insample)"
   ]
  },
  {
   "cell_type": "code",
   "execution_count": 68,
   "id": "aa34b4bd",
   "metadata": {},
   "outputs": [
    {
     "data": {
      "text/plain": [
       "array([178102.5121204 , 425052.90666985, 209593.52802568, ...,\n",
       "       569863.52369677, 373726.88078259, 373777.00196289])"
      ]
     },
     "execution_count": 68,
     "metadata": {},
     "output_type": "execute_result"
    }
   ],
   "source": [
    "reg_pred = reg.predict(X_train)\n",
    "reg_pred"
   ]
  },
  {
   "cell_type": "markdown",
   "id": "fb831f12",
   "metadata": {},
   "source": [
    "##### Evaluation the model(Insample data)"
   ]
  },
  {
   "cell_type": "code",
   "execution_count": 69,
   "id": "bc6c03d6",
   "metadata": {},
   "outputs": [
    {
     "data": {
      "text/plain": [
       "124775.10392074702"
      ]
     },
     "execution_count": 69,
     "metadata": {},
     "output_type": "execute_result"
    }
   ],
   "source": [
    "#MAE (mean absolute error)\n",
    "np.mean(np.abs(y_train-reg_pred))"
   ]
  },
  {
   "cell_type": "code",
   "execution_count": 70,
   "id": "72b33e9c",
   "metadata": {},
   "outputs": [
    {
     "data": {
      "text/plain": [
       "39348686653.94373"
      ]
     },
     "execution_count": 70,
     "metadata": {},
     "output_type": "execute_result"
    }
   ],
   "source": [
    "#MSE\n",
    "np.mean((y_train -reg_pred)**2)"
   ]
  },
  {
   "cell_type": "code",
   "execution_count": 71,
   "id": "bfcdc5fb",
   "metadata": {},
   "outputs": [
    {
     "data": {
      "text/plain": [
       "198365.03384907264"
      ]
     },
     "execution_count": 71,
     "metadata": {},
     "output_type": "execute_result"
    }
   ],
   "source": [
    "#RMSE\n",
    "np.sqrt(np.mean((y_train-reg_pred)**2))"
   ]
  },
  {
   "cell_type": "code",
   "execution_count": 72,
   "id": "6d344a59",
   "metadata": {},
   "outputs": [
    {
     "data": {
      "text/plain": [
       "25.474914420286698"
      ]
     },
     "execution_count": 72,
     "metadata": {},
     "output_type": "execute_result"
    }
   ],
   "source": [
    "#MAPE\n",
    "np.mean(np.abs(y_train-reg_pred)/y_train)*100"
   ]
  },
  {
   "cell_type": "markdown",
   "id": "6e66068c",
   "metadata": {},
   "source": [
    "#### 2)Validation data(Outofsample)"
   ]
  },
  {
   "cell_type": "code",
   "execution_count": 61,
   "id": "d171df5f",
   "metadata": {},
   "outputs": [],
   "source": [
    "# Drop the variable date(string)\n",
    "X_valid = X_valid.drop(\"date\",axis=1)"
   ]
  },
  {
   "cell_type": "code",
   "execution_count": 62,
   "id": "be1462a1",
   "metadata": {},
   "outputs": [
    {
     "data": {
      "text/plain": [
       "array([458743.95848384, 775807.107682  , 391549.8440286 , ...,\n",
       "       527297.18201219, 135361.01956683, 512654.4625396 ])"
      ]
     },
     "execution_count": 62,
     "metadata": {},
     "output_type": "execute_result"
    }
   ],
   "source": [
    "reg_pred = reg.predict(X_valid)\n",
    "reg_pred"
   ]
  },
  {
   "cell_type": "markdown",
   "id": "cc6c71a6",
   "metadata": {},
   "source": [
    "##### Evaluation the model(Outofsample)"
   ]
  },
  {
   "cell_type": "code",
   "execution_count": 63,
   "id": "5498c974",
   "metadata": {},
   "outputs": [
    {
     "data": {
      "text/plain": [
       "125100.48997090152"
      ]
     },
     "execution_count": 63,
     "metadata": {},
     "output_type": "execute_result"
    }
   ],
   "source": [
    "#MAE (mean absolute error)\n",
    "np.mean(np.abs(y_valid-reg_pred))"
   ]
  },
  {
   "cell_type": "code",
   "execution_count": 64,
   "id": "f15d8267",
   "metadata": {},
   "outputs": [
    {
     "data": {
      "text/plain": [
       "39252248418.327095"
      ]
     },
     "execution_count": 64,
     "metadata": {},
     "output_type": "execute_result"
    }
   ],
   "source": [
    "#MSE\n",
    "np.mean((y_valid -reg_pred)**2)"
   ]
  },
  {
   "cell_type": "code",
   "execution_count": 65,
   "id": "e89fb8f5",
   "metadata": {},
   "outputs": [
    {
     "data": {
      "text/plain": [
       "198121.80197627694"
      ]
     },
     "execution_count": 65,
     "metadata": {},
     "output_type": "execute_result"
    }
   ],
   "source": [
    "#RMSE\n",
    "np.sqrt(np.mean((y_valid-reg_pred)**2))"
   ]
  },
  {
   "cell_type": "code",
   "execution_count": 66,
   "id": "8e866629",
   "metadata": {},
   "outputs": [
    {
     "data": {
      "text/plain": [
       "25.602096784829808"
      ]
     },
     "execution_count": 66,
     "metadata": {},
     "output_type": "execute_result"
    }
   ],
   "source": [
    "#MAPE\n",
    "np.mean(np.abs(y_valid-reg_pred)/y_valid)*100"
   ]
  },
  {
   "cell_type": "code",
   "execution_count": null,
   "id": "c59ad2da",
   "metadata": {},
   "outputs": [],
   "source": [
    "err_metrics = pd.DataFrame({\"Mae\":[mae],\"Mse\":[mse2],\"Rmse\":[rmse2],\"Mape\":[mape2]})\n",
    "err_metrics = err_metrics.rename(index={0:\"Trial1:\"})\n"
   ]
  },
  {
   "cell_type": "code",
   "execution_count": null,
   "id": "1bd2e10a",
   "metadata": {},
   "outputs": [],
   "source": []
  },
  {
   "cell_type": "markdown",
   "id": "4912c9fd",
   "metadata": {},
   "source": [
    "#### <U> TRIAL 2"
   ]
  },
  {
   "cell_type": "markdown",
   "id": "14e82998",
   "metadata": {},
   "source": [
    "#### Dropping the variable which are weakly correlated to Price \n"
   ]
  },
  {
   "cell_type": "code",
   "execution_count": 169,
   "id": "4528ebc7",
   "metadata": {},
   "outputs": [],
   "source": [
    "#id,zipcode,lat,lon\n",
    "X_train = X_train.drop(['id','zipcode','lat','long'],axis=1)"
   ]
  },
  {
   "cell_type": "code",
   "execution_count": 170,
   "id": "99e2ad5e",
   "metadata": {},
   "outputs": [
    {
     "data": {
      "text/plain": [
       "Index(['bedrooms', 'bathrooms', 'sqft_living', 'sqft_lot', 'floors',\n",
       "       'waterfront', 'view', 'condition', 'grade', 'sqft_above',\n",
       "       'sqft_basement', 'yr_built', 'yr_renovated', 'sqft_living15',\n",
       "       'sqft_lot15'],\n",
       "      dtype='object')"
      ]
     },
     "execution_count": 170,
     "metadata": {},
     "output_type": "execute_result"
    }
   ],
   "source": [
    "#Variables used in Trial1\n",
    "X_train.columns"
   ]
  },
  {
   "cell_type": "markdown",
   "id": "51477447",
   "metadata": {},
   "source": [
    "##### <U>MODEL TRAINING"
   ]
  },
  {
   "cell_type": "code",
   "execution_count": 171,
   "id": "cf72e8d4",
   "metadata": {},
   "outputs": [
    {
     "data": {
      "text/plain": [
       "LinearRegression()"
      ]
     },
     "execution_count": 171,
     "metadata": {},
     "output_type": "execute_result"
    }
   ],
   "source": [
    "#Fitting the linear model to the train dataset for the model to get trained\n",
    "reg = LinearRegression()\n",
    "reg.fit(X_train,y_train)"
   ]
  },
  {
   "cell_type": "code",
   "execution_count": 172,
   "id": "a3d723f5",
   "metadata": {},
   "outputs": [
    {
     "data": {
      "text/plain": [
       "5999133.499292901"
      ]
     },
     "execution_count": 172,
     "metadata": {},
     "output_type": "execute_result"
    }
   ],
   "source": [
    "#Point of intercept of the Regression line over yaxis\n",
    "reg.intercept_"
   ]
  },
  {
   "cell_type": "code",
   "execution_count": 173,
   "id": "50c4b1ac",
   "metadata": {},
   "outputs": [
    {
     "data": {
      "text/plain": [
       "array([-3.71117391e+04,  3.04027179e+04, -5.27884007e+02, -1.21041729e-01,\n",
       "        2.84007342e+04,  5.34261326e+05,  4.03625028e+04,  1.58007366e+04,\n",
       "        1.19163086e+05,  7.00789544e+02,  7.09399413e+02, -3.45509763e+03,\n",
       "        1.71440938e+01,  1.70226270e+01, -5.07750204e-01])"
      ]
     },
     "execution_count": 173,
     "metadata": {},
     "output_type": "execute_result"
    }
   ],
   "source": [
    "#the regressors of each predictor variable  which determines the prediction\n",
    "reg.coef_"
   ]
  },
  {
   "cell_type": "code",
   "execution_count": 174,
   "id": "161fd002",
   "metadata": {},
   "outputs": [
    {
     "data": {
      "text/plain": [
       "0.6426591465632566"
      ]
     },
     "execution_count": 174,
     "metadata": {},
     "output_type": "execute_result"
    }
   ],
   "source": [
    "#Rsquare value gives the fitness of the model with data(proportion of explained error over total error in prediction)\n",
    "reg.score(X_train,y_train)"
   ]
  },
  {
   "cell_type": "markdown",
   "id": "de6a9c70",
   "metadata": {},
   "source": [
    "##### <U> MODEL VALIDATION"
   ]
  },
  {
   "cell_type": "code",
   "execution_count": 175,
   "id": "bffab508",
   "metadata": {},
   "outputs": [],
   "source": [
    "X_valid = X_valid.drop(['id','zipcode','lat','long'],axis=1)"
   ]
  },
  {
   "cell_type": "code",
   "execution_count": 176,
   "id": "dea89de1",
   "metadata": {},
   "outputs": [
    {
     "data": {
      "text/plain": [
       "array([537888.31213489, 687148.97089237, 325384.34445212, ...,\n",
       "       580842.08813437, 284942.09381555, 453171.96482189])"
      ]
     },
     "execution_count": 176,
     "metadata": {},
     "output_type": "execute_result"
    }
   ],
   "source": [
    "reg_pred = reg.predict(X_valid)\n",
    "reg_pred"
   ]
  },
  {
   "cell_type": "markdown",
   "id": "6813f44d",
   "metadata": {},
   "source": [
    "##### <U> EVALUATING THE MODEL"
   ]
  },
  {
   "cell_type": "code",
   "execution_count": 177,
   "id": "2f47b2ac",
   "metadata": {},
   "outputs": [
    {
     "data": {
      "text/plain": [
       "137739.9461839288"
      ]
     },
     "execution_count": 177,
     "metadata": {},
     "output_type": "execute_result"
    }
   ],
   "source": [
    "#MAE (mean absolute error)\n",
    "np.mean(np.abs(y_valid-reg_pred))"
   ]
  },
  {
   "cell_type": "code",
   "execution_count": 178,
   "id": "c11bca26",
   "metadata": {},
   "outputs": [
    {
     "data": {
      "text/plain": [
       "45128316379.05613"
      ]
     },
     "execution_count": 178,
     "metadata": {},
     "output_type": "execute_result"
    }
   ],
   "source": [
    "#MSE\n",
    "np.mean((y_valid -reg_pred)**2)"
   ]
  },
  {
   "cell_type": "code",
   "execution_count": 179,
   "id": "74b52649",
   "metadata": {},
   "outputs": [
    {
     "data": {
      "text/plain": [
       "212434.26366538927"
      ]
     },
     "execution_count": 179,
     "metadata": {},
     "output_type": "execute_result"
    }
   ],
   "source": [
    "#RMSE\n",
    "np.sqrt(np.mean((y_valid-reg_pred)**2))"
   ]
  },
  {
   "cell_type": "code",
   "execution_count": 180,
   "id": "e3b4abdb",
   "metadata": {},
   "outputs": [
    {
     "data": {
      "text/plain": [
       "28.913544532375578"
      ]
     },
     "execution_count": 180,
     "metadata": {},
     "output_type": "execute_result"
    }
   ],
   "source": [
    "#MAPE\n",
    "np.mean(np.abs(y_valid-reg_pred)/y_valid)*100"
   ]
  },
  {
   "cell_type": "markdown",
   "id": "81600a64",
   "metadata": {},
   "source": [
    "#### <U> TRIAL 3"
   ]
  },
  {
   "cell_type": "markdown",
   "id": "bc45c41c",
   "metadata": {},
   "source": [
    "#### Dropping the variable sqft_living,sqft_lot because there is already a newer and current variable sqft_living15,sqft_lot15\n"
   ]
  },
  {
   "cell_type": "code",
   "execution_count": 181,
   "id": "d63e5134",
   "metadata": {},
   "outputs": [],
   "source": [
    "X_train = X_train.drop(['sqft_living','sqft_lot'],axis=1)"
   ]
  },
  {
   "cell_type": "code",
   "execution_count": 182,
   "id": "743c86f7",
   "metadata": {},
   "outputs": [
    {
     "data": {
      "text/plain": [
       "Index(['bedrooms', 'bathrooms', 'floors', 'waterfront', 'view', 'condition',\n",
       "       'grade', 'sqft_above', 'sqft_basement', 'yr_built', 'yr_renovated',\n",
       "       'sqft_living15', 'sqft_lot15'],\n",
       "      dtype='object')"
      ]
     },
     "execution_count": 182,
     "metadata": {},
     "output_type": "execute_result"
    }
   ],
   "source": [
    "#Variables used in Trial3\n",
    "X_train.columns"
   ]
  },
  {
   "cell_type": "markdown",
   "id": "e389c00f",
   "metadata": {},
   "source": [
    "##### <U>MODEL TRAINING"
   ]
  },
  {
   "cell_type": "code",
   "execution_count": 183,
   "id": "192a5c37",
   "metadata": {},
   "outputs": [
    {
     "data": {
      "text/plain": [
       "LinearRegression()"
      ]
     },
     "execution_count": 183,
     "metadata": {},
     "output_type": "execute_result"
    }
   ],
   "source": [
    "#Fitting the linear model to the train dataset for the model to get trained\n",
    "reg = LinearRegression()\n",
    "reg.fit(X_train,y_train)"
   ]
  },
  {
   "cell_type": "code",
   "execution_count": 184,
   "id": "282fb72d",
   "metadata": {},
   "outputs": [
    {
     "data": {
      "text/plain": [
       "5987778.836286808"
      ]
     },
     "execution_count": 184,
     "metadata": {},
     "output_type": "execute_result"
    }
   ],
   "source": [
    "#Point of intercept of the Regression line over yaxis\n",
    "reg.intercept_"
   ]
  },
  {
   "cell_type": "code",
   "execution_count": 185,
   "id": "93d5e69e",
   "metadata": {},
   "outputs": [
    {
     "data": {
      "text/plain": [
       "array([-3.69656297e+04,  3.03722363e+04,  2.86739301e+04,  5.34650556e+05,\n",
       "        4.03367924e+04,  1.58745866e+04,  1.19161484e+05,  1.72076011e+02,\n",
       "        1.81170299e+02, -3.44967318e+03,  1.72699317e+01,  1.74731946e+01,\n",
       "       -6.31549000e-01])"
      ]
     },
     "execution_count": 185,
     "metadata": {},
     "output_type": "execute_result"
    }
   ],
   "source": [
    "#the regressors of each predictor variable  which determines the prediction\n",
    "reg.coef_"
   ]
  },
  {
   "cell_type": "code",
   "execution_count": 186,
   "id": "6c4d18ca",
   "metadata": {},
   "outputs": [
    {
     "data": {
      "text/plain": [
       "0.6425332677580378"
      ]
     },
     "execution_count": 186,
     "metadata": {},
     "output_type": "execute_result"
    }
   ],
   "source": [
    "#Rsquare value gives the fitness of the model with data(proportion of explained error over total error in prediction)\n",
    "reg.score(X_train,y_train)"
   ]
  },
  {
   "cell_type": "markdown",
   "id": "963e0f84",
   "metadata": {},
   "source": [
    "##### <U> MODEL VALIDATION"
   ]
  },
  {
   "cell_type": "code",
   "execution_count": 187,
   "id": "2fdaf9f1",
   "metadata": {},
   "outputs": [],
   "source": [
    "X_valid = X_valid.drop(['sqft_living','sqft_lot'],axis=1)"
   ]
  },
  {
   "cell_type": "code",
   "execution_count": 188,
   "id": "3969e316",
   "metadata": {},
   "outputs": [
    {
     "data": {
      "text/plain": [
       "array([537455.46091649, 686964.43993883, 325291.599253  , ...,\n",
       "       593571.63941553, 285158.42808693, 453157.1028525 ])"
      ]
     },
     "execution_count": 188,
     "metadata": {},
     "output_type": "execute_result"
    }
   ],
   "source": [
    "reg_pred = reg.predict(X_valid)\n",
    "reg_pred"
   ]
  },
  {
   "cell_type": "markdown",
   "id": "e94a3fdf",
   "metadata": {},
   "source": [
    "##### <U> EVALUATING THE MODEL"
   ]
  },
  {
   "cell_type": "code",
   "execution_count": 189,
   "id": "0f5e394b",
   "metadata": {},
   "outputs": [
    {
     "data": {
      "text/plain": [
       "137673.10305424224"
      ]
     },
     "execution_count": 189,
     "metadata": {},
     "output_type": "execute_result"
    }
   ],
   "source": [
    "#MAE (mean absolute error)\n",
    "np.mean(np.abs(y_valid-reg_pred))"
   ]
  },
  {
   "cell_type": "code",
   "execution_count": 190,
   "id": "fc3db384",
   "metadata": {},
   "outputs": [
    {
     "data": {
      "text/plain": [
       "45099736535.29333"
      ]
     },
     "execution_count": 190,
     "metadata": {},
     "output_type": "execute_result"
    }
   ],
   "source": [
    "#MSE\n",
    "np.mean((y_valid -reg_pred)**2)"
   ]
  },
  {
   "cell_type": "code",
   "execution_count": 191,
   "id": "dcc0db6a",
   "metadata": {},
   "outputs": [
    {
     "data": {
      "text/plain": [
       "212366.98551162166"
      ]
     },
     "execution_count": 191,
     "metadata": {},
     "output_type": "execute_result"
    }
   ],
   "source": [
    "#RMSE\n",
    "np.sqrt(np.mean((y_valid-reg_pred)**2))"
   ]
  },
  {
   "cell_type": "code",
   "execution_count": 192,
   "id": "893fa5de",
   "metadata": {},
   "outputs": [
    {
     "data": {
      "text/plain": [
       "28.896306827735895"
      ]
     },
     "execution_count": 192,
     "metadata": {},
     "output_type": "execute_result"
    }
   ],
   "source": [
    "#MAPE\n",
    "np.mean(np.abs(y_valid-reg_pred)/y_valid)*100"
   ]
  },
  {
   "cell_type": "markdown",
   "id": "2841b6a7",
   "metadata": {},
   "source": [
    "#### <U> TRIAL 4"
   ]
  },
  {
   "cell_type": "code",
   "execution_count": 193,
   "id": "fcec7315",
   "metadata": {},
   "outputs": [
    {
     "data": {
      "text/plain": [
       "Index(['bedrooms', 'bathrooms', 'floors', 'waterfront', 'view', 'condition',\n",
       "       'grade', 'sqft_above', 'sqft_basement', 'yr_built', 'yr_renovated',\n",
       "       'sqft_living15', 'sqft_lot15'],\n",
       "      dtype='object')"
      ]
     },
     "execution_count": 193,
     "metadata": {},
     "output_type": "execute_result"
    }
   ],
   "source": [
    "X_train.columns"
   ]
  },
  {
   "cell_type": "markdown",
   "id": "1bd36b0b",
   "metadata": {},
   "source": [
    "#### <u>TRANSFORMATIONS\n",
    "#### 1. Log transformation of Target variable(Price)\n",
    "#### 2. Making a new variable Age using Year build\n",
    "#### 3. Sqft Basement to Basement present or not\n",
    "#### 4. yr_renovated to renovated or not  \n",
    "    \n"
   ]
  },
  {
   "cell_type": "code",
   "execution_count": 194,
   "id": "df5a9802",
   "metadata": {},
   "outputs": [],
   "source": [
    "X_train_tranf = X_train.copy()\n",
    "y_train_tranf = y_train.copy()"
   ]
  },
  {
   "cell_type": "code",
   "execution_count": 195,
   "id": "5e494833",
   "metadata": {},
   "outputs": [],
   "source": [
    "log_y = np.log(y_train_tranf)"
   ]
  },
  {
   "cell_type": "code",
   "execution_count": 196,
   "id": "790619ff",
   "metadata": {},
   "outputs": [
    {
     "data": {
      "text/plain": [
       "6094     12.384219\n",
       "15962    12.765688\n",
       "19674    12.864059\n",
       "9718     13.366094\n",
       "19385    12.388394\n",
       "           ...    \n",
       "13563    13.480038\n",
       "12765    13.244581\n",
       "14415    13.459093\n",
       "18699    12.936034\n",
       "21132    12.751300\n",
       "Name: price, Length: 8623, dtype: float64"
      ]
     },
     "execution_count": 196,
     "metadata": {},
     "output_type": "execute_result"
    }
   ],
   "source": [
    "log_y"
   ]
  },
  {
   "cell_type": "code",
   "execution_count": 197,
   "id": "a54c9e58",
   "metadata": {},
   "outputs": [],
   "source": [
    "X_train_tranf['age']=2022-X_train_tranf['yr_built']"
   ]
  },
  {
   "cell_type": "code",
   "execution_count": 198,
   "id": "0b8637a1",
   "metadata": {},
   "outputs": [
    {
     "data": {
      "text/html": [
       "<div>\n",
       "<style scoped>\n",
       "    .dataframe tbody tr th:only-of-type {\n",
       "        vertical-align: middle;\n",
       "    }\n",
       "\n",
       "    .dataframe tbody tr th {\n",
       "        vertical-align: top;\n",
       "    }\n",
       "\n",
       "    .dataframe thead th {\n",
       "        text-align: right;\n",
       "    }\n",
       "</style>\n",
       "<table border=\"1\" class=\"dataframe\">\n",
       "  <thead>\n",
       "    <tr style=\"text-align: right;\">\n",
       "      <th></th>\n",
       "      <th>bedrooms</th>\n",
       "      <th>bathrooms</th>\n",
       "      <th>floors</th>\n",
       "      <th>waterfront</th>\n",
       "      <th>view</th>\n",
       "      <th>condition</th>\n",
       "      <th>grade</th>\n",
       "      <th>sqft_above</th>\n",
       "      <th>sqft_basement</th>\n",
       "      <th>yr_built</th>\n",
       "      <th>yr_renovated</th>\n",
       "      <th>sqft_living15</th>\n",
       "      <th>sqft_lot15</th>\n",
       "      <th>age</th>\n",
       "    </tr>\n",
       "  </thead>\n",
       "  <tbody>\n",
       "    <tr>\n",
       "      <th>6094</th>\n",
       "      <td>4</td>\n",
       "      <td>1.75</td>\n",
       "      <td>1.0</td>\n",
       "      <td>0</td>\n",
       "      <td>0</td>\n",
       "      <td>4</td>\n",
       "      <td>7</td>\n",
       "      <td>1000.0</td>\n",
       "      <td>500</td>\n",
       "      <td>1977</td>\n",
       "      <td>0</td>\n",
       "      <td>1700</td>\n",
       "      <td>9020</td>\n",
       "      <td>45</td>\n",
       "    </tr>\n",
       "    <tr>\n",
       "      <th>15962</th>\n",
       "      <td>4</td>\n",
       "      <td>2.50</td>\n",
       "      <td>2.0</td>\n",
       "      <td>0</td>\n",
       "      <td>0</td>\n",
       "      <td>3</td>\n",
       "      <td>8</td>\n",
       "      <td>2610.0</td>\n",
       "      <td>0</td>\n",
       "      <td>2005</td>\n",
       "      <td>0</td>\n",
       "      <td>2480</td>\n",
       "      <td>5188</td>\n",
       "      <td>17</td>\n",
       "    </tr>\n",
       "    <tr>\n",
       "      <th>19674</th>\n",
       "      <td>2</td>\n",
       "      <td>1.50</td>\n",
       "      <td>2.0</td>\n",
       "      <td>0</td>\n",
       "      <td>0</td>\n",
       "      <td>3</td>\n",
       "      <td>7</td>\n",
       "      <td>960.0</td>\n",
       "      <td>0</td>\n",
       "      <td>2005</td>\n",
       "      <td>0</td>\n",
       "      <td>1470</td>\n",
       "      <td>1829</td>\n",
       "      <td>17</td>\n",
       "    </tr>\n",
       "    <tr>\n",
       "      <th>9718</th>\n",
       "      <td>3</td>\n",
       "      <td>2.50</td>\n",
       "      <td>2.0</td>\n",
       "      <td>0</td>\n",
       "      <td>0</td>\n",
       "      <td>3</td>\n",
       "      <td>9</td>\n",
       "      <td>2110.0</td>\n",
       "      <td>0</td>\n",
       "      <td>2005</td>\n",
       "      <td>0</td>\n",
       "      <td>2540</td>\n",
       "      <td>4384</td>\n",
       "      <td>17</td>\n",
       "    </tr>\n",
       "    <tr>\n",
       "      <th>19385</th>\n",
       "      <td>3</td>\n",
       "      <td>2.00</td>\n",
       "      <td>1.0</td>\n",
       "      <td>0</td>\n",
       "      <td>0</td>\n",
       "      <td>3</td>\n",
       "      <td>7</td>\n",
       "      <td>1553.0</td>\n",
       "      <td>0</td>\n",
       "      <td>1900</td>\n",
       "      <td>2001</td>\n",
       "      <td>1010</td>\n",
       "      <td>10546</td>\n",
       "      <td>122</td>\n",
       "    </tr>\n",
       "    <tr>\n",
       "      <th>...</th>\n",
       "      <td>...</td>\n",
       "      <td>...</td>\n",
       "      <td>...</td>\n",
       "      <td>...</td>\n",
       "      <td>...</td>\n",
       "      <td>...</td>\n",
       "      <td>...</td>\n",
       "      <td>...</td>\n",
       "      <td>...</td>\n",
       "      <td>...</td>\n",
       "      <td>...</td>\n",
       "      <td>...</td>\n",
       "      <td>...</td>\n",
       "      <td>...</td>\n",
       "    </tr>\n",
       "    <tr>\n",
       "      <th>13563</th>\n",
       "      <td>4</td>\n",
       "      <td>2.50</td>\n",
       "      <td>2.0</td>\n",
       "      <td>0</td>\n",
       "      <td>0</td>\n",
       "      <td>3</td>\n",
       "      <td>9</td>\n",
       "      <td>2970.0</td>\n",
       "      <td>0</td>\n",
       "      <td>2005</td>\n",
       "      <td>0</td>\n",
       "      <td>3940</td>\n",
       "      <td>4848</td>\n",
       "      <td>17</td>\n",
       "    </tr>\n",
       "    <tr>\n",
       "      <th>12765</th>\n",
       "      <td>7</td>\n",
       "      <td>4.50</td>\n",
       "      <td>1.0</td>\n",
       "      <td>0</td>\n",
       "      <td>0</td>\n",
       "      <td>3</td>\n",
       "      <td>7</td>\n",
       "      <td>2070.0</td>\n",
       "      <td>2070</td>\n",
       "      <td>1978</td>\n",
       "      <td>0</td>\n",
       "      <td>1440</td>\n",
       "      <td>1865</td>\n",
       "      <td>44</td>\n",
       "    </tr>\n",
       "    <tr>\n",
       "      <th>14415</th>\n",
       "      <td>2</td>\n",
       "      <td>1.75</td>\n",
       "      <td>1.0</td>\n",
       "      <td>0</td>\n",
       "      <td>0</td>\n",
       "      <td>3</td>\n",
       "      <td>8</td>\n",
       "      <td>1020.0</td>\n",
       "      <td>510</td>\n",
       "      <td>1952</td>\n",
       "      <td>0</td>\n",
       "      <td>1870</td>\n",
       "      <td>5029</td>\n",
       "      <td>70</td>\n",
       "    </tr>\n",
       "    <tr>\n",
       "      <th>18699</th>\n",
       "      <td>5</td>\n",
       "      <td>2.75</td>\n",
       "      <td>1.0</td>\n",
       "      <td>0</td>\n",
       "      <td>0</td>\n",
       "      <td>4</td>\n",
       "      <td>7</td>\n",
       "      <td>1220.0</td>\n",
       "      <td>840</td>\n",
       "      <td>1978</td>\n",
       "      <td>0</td>\n",
       "      <td>1840</td>\n",
       "      <td>8906</td>\n",
       "      <td>44</td>\n",
       "    </tr>\n",
       "    <tr>\n",
       "      <th>21132</th>\n",
       "      <td>4</td>\n",
       "      <td>2.50</td>\n",
       "      <td>2.0</td>\n",
       "      <td>0</td>\n",
       "      <td>0</td>\n",
       "      <td>3</td>\n",
       "      <td>9</td>\n",
       "      <td>1983.0</td>\n",
       "      <td>0</td>\n",
       "      <td>2012</td>\n",
       "      <td>0</td>\n",
       "      <td>2502</td>\n",
       "      <td>4750</td>\n",
       "      <td>10</td>\n",
       "    </tr>\n",
       "  </tbody>\n",
       "</table>\n",
       "<p>8623 rows × 14 columns</p>\n",
       "</div>"
      ],
      "text/plain": [
       "       bedrooms  bathrooms  floors  waterfront  view  condition  grade  \\\n",
       "6094          4       1.75     1.0           0     0          4      7   \n",
       "15962         4       2.50     2.0           0     0          3      8   \n",
       "19674         2       1.50     2.0           0     0          3      7   \n",
       "9718          3       2.50     2.0           0     0          3      9   \n",
       "19385         3       2.00     1.0           0     0          3      7   \n",
       "...         ...        ...     ...         ...   ...        ...    ...   \n",
       "13563         4       2.50     2.0           0     0          3      9   \n",
       "12765         7       4.50     1.0           0     0          3      7   \n",
       "14415         2       1.75     1.0           0     0          3      8   \n",
       "18699         5       2.75     1.0           0     0          4      7   \n",
       "21132         4       2.50     2.0           0     0          3      9   \n",
       "\n",
       "       sqft_above  sqft_basement  yr_built  yr_renovated  sqft_living15  \\\n",
       "6094       1000.0            500      1977             0           1700   \n",
       "15962      2610.0              0      2005             0           2480   \n",
       "19674       960.0              0      2005             0           1470   \n",
       "9718       2110.0              0      2005             0           2540   \n",
       "19385      1553.0              0      1900          2001           1010   \n",
       "...           ...            ...       ...           ...            ...   \n",
       "13563      2970.0              0      2005             0           3940   \n",
       "12765      2070.0           2070      1978             0           1440   \n",
       "14415      1020.0            510      1952             0           1870   \n",
       "18699      1220.0            840      1978             0           1840   \n",
       "21132      1983.0              0      2012             0           2502   \n",
       "\n",
       "       sqft_lot15  age  \n",
       "6094         9020   45  \n",
       "15962        5188   17  \n",
       "19674        1829   17  \n",
       "9718         4384   17  \n",
       "19385       10546  122  \n",
       "...           ...  ...  \n",
       "13563        4848   17  \n",
       "12765        1865   44  \n",
       "14415        5029   70  \n",
       "18699        8906   44  \n",
       "21132        4750   10  \n",
       "\n",
       "[8623 rows x 14 columns]"
      ]
     },
     "execution_count": 198,
     "metadata": {},
     "output_type": "execute_result"
    }
   ],
   "source": [
    "X_train_tranf"
   ]
  },
  {
   "cell_type": "code",
   "execution_count": 199,
   "id": "6423c1c0",
   "metadata": {},
   "outputs": [],
   "source": [
    "X_train_tranf=X_train_tranf.drop(['yr_built'], axis=1)"
   ]
  },
  {
   "cell_type": "code",
   "execution_count": 200,
   "id": "8e225c07",
   "metadata": {},
   "outputs": [],
   "source": [
    "X_train_tranf['basement_present'] = 0\n",
    "X_train_tranf.loc[X_train_tranf['sqft_basement'] >0, 'basement_present'] = 1"
   ]
  },
  {
   "cell_type": "code",
   "execution_count": 201,
   "id": "051aa5b1",
   "metadata": {},
   "outputs": [
    {
     "data": {
      "text/html": [
       "<div>\n",
       "<style scoped>\n",
       "    .dataframe tbody tr th:only-of-type {\n",
       "        vertical-align: middle;\n",
       "    }\n",
       "\n",
       "    .dataframe tbody tr th {\n",
       "        vertical-align: top;\n",
       "    }\n",
       "\n",
       "    .dataframe thead th {\n",
       "        text-align: right;\n",
       "    }\n",
       "</style>\n",
       "<table border=\"1\" class=\"dataframe\">\n",
       "  <thead>\n",
       "    <tr style=\"text-align: right;\">\n",
       "      <th></th>\n",
       "      <th>bedrooms</th>\n",
       "      <th>bathrooms</th>\n",
       "      <th>floors</th>\n",
       "      <th>waterfront</th>\n",
       "      <th>view</th>\n",
       "      <th>condition</th>\n",
       "      <th>grade</th>\n",
       "      <th>sqft_above</th>\n",
       "      <th>sqft_basement</th>\n",
       "      <th>yr_renovated</th>\n",
       "      <th>sqft_living15</th>\n",
       "      <th>sqft_lot15</th>\n",
       "      <th>age</th>\n",
       "      <th>basement_present</th>\n",
       "    </tr>\n",
       "  </thead>\n",
       "  <tbody>\n",
       "    <tr>\n",
       "      <th>6094</th>\n",
       "      <td>4</td>\n",
       "      <td>1.75</td>\n",
       "      <td>1.0</td>\n",
       "      <td>0</td>\n",
       "      <td>0</td>\n",
       "      <td>4</td>\n",
       "      <td>7</td>\n",
       "      <td>1000.0</td>\n",
       "      <td>500</td>\n",
       "      <td>0</td>\n",
       "      <td>1700</td>\n",
       "      <td>9020</td>\n",
       "      <td>45</td>\n",
       "      <td>1</td>\n",
       "    </tr>\n",
       "    <tr>\n",
       "      <th>15962</th>\n",
       "      <td>4</td>\n",
       "      <td>2.50</td>\n",
       "      <td>2.0</td>\n",
       "      <td>0</td>\n",
       "      <td>0</td>\n",
       "      <td>3</td>\n",
       "      <td>8</td>\n",
       "      <td>2610.0</td>\n",
       "      <td>0</td>\n",
       "      <td>0</td>\n",
       "      <td>2480</td>\n",
       "      <td>5188</td>\n",
       "      <td>17</td>\n",
       "      <td>0</td>\n",
       "    </tr>\n",
       "    <tr>\n",
       "      <th>19674</th>\n",
       "      <td>2</td>\n",
       "      <td>1.50</td>\n",
       "      <td>2.0</td>\n",
       "      <td>0</td>\n",
       "      <td>0</td>\n",
       "      <td>3</td>\n",
       "      <td>7</td>\n",
       "      <td>960.0</td>\n",
       "      <td>0</td>\n",
       "      <td>0</td>\n",
       "      <td>1470</td>\n",
       "      <td>1829</td>\n",
       "      <td>17</td>\n",
       "      <td>0</td>\n",
       "    </tr>\n",
       "    <tr>\n",
       "      <th>9718</th>\n",
       "      <td>3</td>\n",
       "      <td>2.50</td>\n",
       "      <td>2.0</td>\n",
       "      <td>0</td>\n",
       "      <td>0</td>\n",
       "      <td>3</td>\n",
       "      <td>9</td>\n",
       "      <td>2110.0</td>\n",
       "      <td>0</td>\n",
       "      <td>0</td>\n",
       "      <td>2540</td>\n",
       "      <td>4384</td>\n",
       "      <td>17</td>\n",
       "      <td>0</td>\n",
       "    </tr>\n",
       "    <tr>\n",
       "      <th>19385</th>\n",
       "      <td>3</td>\n",
       "      <td>2.00</td>\n",
       "      <td>1.0</td>\n",
       "      <td>0</td>\n",
       "      <td>0</td>\n",
       "      <td>3</td>\n",
       "      <td>7</td>\n",
       "      <td>1553.0</td>\n",
       "      <td>0</td>\n",
       "      <td>2001</td>\n",
       "      <td>1010</td>\n",
       "      <td>10546</td>\n",
       "      <td>122</td>\n",
       "      <td>0</td>\n",
       "    </tr>\n",
       "    <tr>\n",
       "      <th>...</th>\n",
       "      <td>...</td>\n",
       "      <td>...</td>\n",
       "      <td>...</td>\n",
       "      <td>...</td>\n",
       "      <td>...</td>\n",
       "      <td>...</td>\n",
       "      <td>...</td>\n",
       "      <td>...</td>\n",
       "      <td>...</td>\n",
       "      <td>...</td>\n",
       "      <td>...</td>\n",
       "      <td>...</td>\n",
       "      <td>...</td>\n",
       "      <td>...</td>\n",
       "    </tr>\n",
       "    <tr>\n",
       "      <th>13563</th>\n",
       "      <td>4</td>\n",
       "      <td>2.50</td>\n",
       "      <td>2.0</td>\n",
       "      <td>0</td>\n",
       "      <td>0</td>\n",
       "      <td>3</td>\n",
       "      <td>9</td>\n",
       "      <td>2970.0</td>\n",
       "      <td>0</td>\n",
       "      <td>0</td>\n",
       "      <td>3940</td>\n",
       "      <td>4848</td>\n",
       "      <td>17</td>\n",
       "      <td>0</td>\n",
       "    </tr>\n",
       "    <tr>\n",
       "      <th>12765</th>\n",
       "      <td>7</td>\n",
       "      <td>4.50</td>\n",
       "      <td>1.0</td>\n",
       "      <td>0</td>\n",
       "      <td>0</td>\n",
       "      <td>3</td>\n",
       "      <td>7</td>\n",
       "      <td>2070.0</td>\n",
       "      <td>2070</td>\n",
       "      <td>0</td>\n",
       "      <td>1440</td>\n",
       "      <td>1865</td>\n",
       "      <td>44</td>\n",
       "      <td>1</td>\n",
       "    </tr>\n",
       "    <tr>\n",
       "      <th>14415</th>\n",
       "      <td>2</td>\n",
       "      <td>1.75</td>\n",
       "      <td>1.0</td>\n",
       "      <td>0</td>\n",
       "      <td>0</td>\n",
       "      <td>3</td>\n",
       "      <td>8</td>\n",
       "      <td>1020.0</td>\n",
       "      <td>510</td>\n",
       "      <td>0</td>\n",
       "      <td>1870</td>\n",
       "      <td>5029</td>\n",
       "      <td>70</td>\n",
       "      <td>1</td>\n",
       "    </tr>\n",
       "    <tr>\n",
       "      <th>18699</th>\n",
       "      <td>5</td>\n",
       "      <td>2.75</td>\n",
       "      <td>1.0</td>\n",
       "      <td>0</td>\n",
       "      <td>0</td>\n",
       "      <td>4</td>\n",
       "      <td>7</td>\n",
       "      <td>1220.0</td>\n",
       "      <td>840</td>\n",
       "      <td>0</td>\n",
       "      <td>1840</td>\n",
       "      <td>8906</td>\n",
       "      <td>44</td>\n",
       "      <td>1</td>\n",
       "    </tr>\n",
       "    <tr>\n",
       "      <th>21132</th>\n",
       "      <td>4</td>\n",
       "      <td>2.50</td>\n",
       "      <td>2.0</td>\n",
       "      <td>0</td>\n",
       "      <td>0</td>\n",
       "      <td>3</td>\n",
       "      <td>9</td>\n",
       "      <td>1983.0</td>\n",
       "      <td>0</td>\n",
       "      <td>0</td>\n",
       "      <td>2502</td>\n",
       "      <td>4750</td>\n",
       "      <td>10</td>\n",
       "      <td>0</td>\n",
       "    </tr>\n",
       "  </tbody>\n",
       "</table>\n",
       "<p>8623 rows × 14 columns</p>\n",
       "</div>"
      ],
      "text/plain": [
       "       bedrooms  bathrooms  floors  waterfront  view  condition  grade  \\\n",
       "6094          4       1.75     1.0           0     0          4      7   \n",
       "15962         4       2.50     2.0           0     0          3      8   \n",
       "19674         2       1.50     2.0           0     0          3      7   \n",
       "9718          3       2.50     2.0           0     0          3      9   \n",
       "19385         3       2.00     1.0           0     0          3      7   \n",
       "...         ...        ...     ...         ...   ...        ...    ...   \n",
       "13563         4       2.50     2.0           0     0          3      9   \n",
       "12765         7       4.50     1.0           0     0          3      7   \n",
       "14415         2       1.75     1.0           0     0          3      8   \n",
       "18699         5       2.75     1.0           0     0          4      7   \n",
       "21132         4       2.50     2.0           0     0          3      9   \n",
       "\n",
       "       sqft_above  sqft_basement  yr_renovated  sqft_living15  sqft_lot15  \\\n",
       "6094       1000.0            500             0           1700        9020   \n",
       "15962      2610.0              0             0           2480        5188   \n",
       "19674       960.0              0             0           1470        1829   \n",
       "9718       2110.0              0             0           2540        4384   \n",
       "19385      1553.0              0          2001           1010       10546   \n",
       "...           ...            ...           ...            ...         ...   \n",
       "13563      2970.0              0             0           3940        4848   \n",
       "12765      2070.0           2070             0           1440        1865   \n",
       "14415      1020.0            510             0           1870        5029   \n",
       "18699      1220.0            840             0           1840        8906   \n",
       "21132      1983.0              0             0           2502        4750   \n",
       "\n",
       "       age  basement_present  \n",
       "6094    45                 1  \n",
       "15962   17                 0  \n",
       "19674   17                 0  \n",
       "9718    17                 0  \n",
       "19385  122                 0  \n",
       "...    ...               ...  \n",
       "13563   17                 0  \n",
       "12765   44                 1  \n",
       "14415   70                 1  \n",
       "18699   44                 1  \n",
       "21132   10                 0  \n",
       "\n",
       "[8623 rows x 14 columns]"
      ]
     },
     "execution_count": 201,
     "metadata": {},
     "output_type": "execute_result"
    }
   ],
   "source": [
    "X_train_tranf"
   ]
  },
  {
   "cell_type": "code",
   "execution_count": 202,
   "id": "31f79a6a",
   "metadata": {},
   "outputs": [],
   "source": [
    "X_train_tranf=X_train_tranf.drop(['sqft_basement'], axis=1)"
   ]
  },
  {
   "cell_type": "code",
   "execution_count": 203,
   "id": "e6519801",
   "metadata": {},
   "outputs": [],
   "source": [
    "X_train_tranf['renovated'] = 0\n",
    "X_train_tranf.loc[X_train_tranf['yr_renovated'] >0, 'renovated'] = 1"
   ]
  },
  {
   "cell_type": "code",
   "execution_count": 226,
   "id": "98403cf1",
   "metadata": {},
   "outputs": [],
   "source": [
    "X_train_tranf=X_train_tranf.drop(['yr_renovated'], axis=1)"
   ]
  },
  {
   "cell_type": "code",
   "execution_count": 227,
   "id": "2d7cc77f",
   "metadata": {},
   "outputs": [
    {
     "data": {
      "text/html": [
       "<div>\n",
       "<style scoped>\n",
       "    .dataframe tbody tr th:only-of-type {\n",
       "        vertical-align: middle;\n",
       "    }\n",
       "\n",
       "    .dataframe tbody tr th {\n",
       "        vertical-align: top;\n",
       "    }\n",
       "\n",
       "    .dataframe thead th {\n",
       "        text-align: right;\n",
       "    }\n",
       "</style>\n",
       "<table border=\"1\" class=\"dataframe\">\n",
       "  <thead>\n",
       "    <tr style=\"text-align: right;\">\n",
       "      <th></th>\n",
       "      <th>bedrooms</th>\n",
       "      <th>bathrooms</th>\n",
       "      <th>floors</th>\n",
       "      <th>waterfront</th>\n",
       "      <th>view</th>\n",
       "      <th>condition</th>\n",
       "      <th>grade</th>\n",
       "      <th>sqft_above</th>\n",
       "      <th>sqft_living15</th>\n",
       "      <th>sqft_lot15</th>\n",
       "      <th>age</th>\n",
       "      <th>basement_present</th>\n",
       "      <th>renovated</th>\n",
       "    </tr>\n",
       "  </thead>\n",
       "  <tbody>\n",
       "    <tr>\n",
       "      <th>6094</th>\n",
       "      <td>4</td>\n",
       "      <td>1.75</td>\n",
       "      <td>1.0</td>\n",
       "      <td>0</td>\n",
       "      <td>0</td>\n",
       "      <td>4</td>\n",
       "      <td>7</td>\n",
       "      <td>1000.0</td>\n",
       "      <td>1700</td>\n",
       "      <td>9020</td>\n",
       "      <td>45</td>\n",
       "      <td>1</td>\n",
       "      <td>0</td>\n",
       "    </tr>\n",
       "    <tr>\n",
       "      <th>15962</th>\n",
       "      <td>4</td>\n",
       "      <td>2.50</td>\n",
       "      <td>2.0</td>\n",
       "      <td>0</td>\n",
       "      <td>0</td>\n",
       "      <td>3</td>\n",
       "      <td>8</td>\n",
       "      <td>2610.0</td>\n",
       "      <td>2480</td>\n",
       "      <td>5188</td>\n",
       "      <td>17</td>\n",
       "      <td>0</td>\n",
       "      <td>0</td>\n",
       "    </tr>\n",
       "    <tr>\n",
       "      <th>19674</th>\n",
       "      <td>2</td>\n",
       "      <td>1.50</td>\n",
       "      <td>2.0</td>\n",
       "      <td>0</td>\n",
       "      <td>0</td>\n",
       "      <td>3</td>\n",
       "      <td>7</td>\n",
       "      <td>960.0</td>\n",
       "      <td>1470</td>\n",
       "      <td>1829</td>\n",
       "      <td>17</td>\n",
       "      <td>0</td>\n",
       "      <td>0</td>\n",
       "    </tr>\n",
       "    <tr>\n",
       "      <th>9718</th>\n",
       "      <td>3</td>\n",
       "      <td>2.50</td>\n",
       "      <td>2.0</td>\n",
       "      <td>0</td>\n",
       "      <td>0</td>\n",
       "      <td>3</td>\n",
       "      <td>9</td>\n",
       "      <td>2110.0</td>\n",
       "      <td>2540</td>\n",
       "      <td>4384</td>\n",
       "      <td>17</td>\n",
       "      <td>0</td>\n",
       "      <td>0</td>\n",
       "    </tr>\n",
       "    <tr>\n",
       "      <th>19385</th>\n",
       "      <td>3</td>\n",
       "      <td>2.00</td>\n",
       "      <td>1.0</td>\n",
       "      <td>0</td>\n",
       "      <td>0</td>\n",
       "      <td>3</td>\n",
       "      <td>7</td>\n",
       "      <td>1553.0</td>\n",
       "      <td>1010</td>\n",
       "      <td>10546</td>\n",
       "      <td>122</td>\n",
       "      <td>0</td>\n",
       "      <td>1</td>\n",
       "    </tr>\n",
       "    <tr>\n",
       "      <th>...</th>\n",
       "      <td>...</td>\n",
       "      <td>...</td>\n",
       "      <td>...</td>\n",
       "      <td>...</td>\n",
       "      <td>...</td>\n",
       "      <td>...</td>\n",
       "      <td>...</td>\n",
       "      <td>...</td>\n",
       "      <td>...</td>\n",
       "      <td>...</td>\n",
       "      <td>...</td>\n",
       "      <td>...</td>\n",
       "      <td>...</td>\n",
       "    </tr>\n",
       "    <tr>\n",
       "      <th>13563</th>\n",
       "      <td>4</td>\n",
       "      <td>2.50</td>\n",
       "      <td>2.0</td>\n",
       "      <td>0</td>\n",
       "      <td>0</td>\n",
       "      <td>3</td>\n",
       "      <td>9</td>\n",
       "      <td>2970.0</td>\n",
       "      <td>3940</td>\n",
       "      <td>4848</td>\n",
       "      <td>17</td>\n",
       "      <td>0</td>\n",
       "      <td>0</td>\n",
       "    </tr>\n",
       "    <tr>\n",
       "      <th>12765</th>\n",
       "      <td>7</td>\n",
       "      <td>4.50</td>\n",
       "      <td>1.0</td>\n",
       "      <td>0</td>\n",
       "      <td>0</td>\n",
       "      <td>3</td>\n",
       "      <td>7</td>\n",
       "      <td>2070.0</td>\n",
       "      <td>1440</td>\n",
       "      <td>1865</td>\n",
       "      <td>44</td>\n",
       "      <td>1</td>\n",
       "      <td>0</td>\n",
       "    </tr>\n",
       "    <tr>\n",
       "      <th>14415</th>\n",
       "      <td>2</td>\n",
       "      <td>1.75</td>\n",
       "      <td>1.0</td>\n",
       "      <td>0</td>\n",
       "      <td>0</td>\n",
       "      <td>3</td>\n",
       "      <td>8</td>\n",
       "      <td>1020.0</td>\n",
       "      <td>1870</td>\n",
       "      <td>5029</td>\n",
       "      <td>70</td>\n",
       "      <td>1</td>\n",
       "      <td>0</td>\n",
       "    </tr>\n",
       "    <tr>\n",
       "      <th>18699</th>\n",
       "      <td>5</td>\n",
       "      <td>2.75</td>\n",
       "      <td>1.0</td>\n",
       "      <td>0</td>\n",
       "      <td>0</td>\n",
       "      <td>4</td>\n",
       "      <td>7</td>\n",
       "      <td>1220.0</td>\n",
       "      <td>1840</td>\n",
       "      <td>8906</td>\n",
       "      <td>44</td>\n",
       "      <td>1</td>\n",
       "      <td>0</td>\n",
       "    </tr>\n",
       "    <tr>\n",
       "      <th>21132</th>\n",
       "      <td>4</td>\n",
       "      <td>2.50</td>\n",
       "      <td>2.0</td>\n",
       "      <td>0</td>\n",
       "      <td>0</td>\n",
       "      <td>3</td>\n",
       "      <td>9</td>\n",
       "      <td>1983.0</td>\n",
       "      <td>2502</td>\n",
       "      <td>4750</td>\n",
       "      <td>10</td>\n",
       "      <td>0</td>\n",
       "      <td>0</td>\n",
       "    </tr>\n",
       "  </tbody>\n",
       "</table>\n",
       "<p>8623 rows × 13 columns</p>\n",
       "</div>"
      ],
      "text/plain": [
       "       bedrooms  bathrooms  floors  waterfront  view  condition  grade  \\\n",
       "6094          4       1.75     1.0           0     0          4      7   \n",
       "15962         4       2.50     2.0           0     0          3      8   \n",
       "19674         2       1.50     2.0           0     0          3      7   \n",
       "9718          3       2.50     2.0           0     0          3      9   \n",
       "19385         3       2.00     1.0           0     0          3      7   \n",
       "...         ...        ...     ...         ...   ...        ...    ...   \n",
       "13563         4       2.50     2.0           0     0          3      9   \n",
       "12765         7       4.50     1.0           0     0          3      7   \n",
       "14415         2       1.75     1.0           0     0          3      8   \n",
       "18699         5       2.75     1.0           0     0          4      7   \n",
       "21132         4       2.50     2.0           0     0          3      9   \n",
       "\n",
       "       sqft_above  sqft_living15  sqft_lot15  age  basement_present  renovated  \n",
       "6094       1000.0           1700        9020   45                 1          0  \n",
       "15962      2610.0           2480        5188   17                 0          0  \n",
       "19674       960.0           1470        1829   17                 0          0  \n",
       "9718       2110.0           2540        4384   17                 0          0  \n",
       "19385      1553.0           1010       10546  122                 0          1  \n",
       "...           ...            ...         ...  ...               ...        ...  \n",
       "13563      2970.0           3940        4848   17                 0          0  \n",
       "12765      2070.0           1440        1865   44                 1          0  \n",
       "14415      1020.0           1870        5029   70                 1          0  \n",
       "18699      1220.0           1840        8906   44                 1          0  \n",
       "21132      1983.0           2502        4750   10                 0          0  \n",
       "\n",
       "[8623 rows x 13 columns]"
      ]
     },
     "execution_count": 227,
     "metadata": {},
     "output_type": "execute_result"
    }
   ],
   "source": [
    "X_train_tranf"
   ]
  },
  {
   "cell_type": "markdown",
   "id": "06cea72f",
   "metadata": {},
   "source": [
    "##### <U>MODEL TRAINING"
   ]
  },
  {
   "cell_type": "code",
   "execution_count": 228,
   "id": "becd4d36",
   "metadata": {},
   "outputs": [
    {
     "data": {
      "text/plain": [
       "LinearRegression()"
      ]
     },
     "execution_count": 228,
     "metadata": {},
     "output_type": "execute_result"
    }
   ],
   "source": [
    "#Fitting the linear model to the train dataset for the model to get trained\n",
    "reg = LinearRegression()\n",
    "reg.fit(X_train_tranf,log_y)"
   ]
  },
  {
   "cell_type": "code",
   "execution_count": 229,
   "id": "c0111ac0",
   "metadata": {},
   "outputs": [
    {
     "data": {
      "text/plain": [
       "10.295881815105194"
      ]
     },
     "execution_count": 229,
     "metadata": {},
     "output_type": "execute_result"
    }
   ],
   "source": [
    "#Point of intercept of the Regression line over yaxis\n",
    "reg.intercept_"
   ]
  },
  {
   "cell_type": "code",
   "execution_count": 230,
   "id": "7a4a7f1d",
   "metadata": {},
   "outputs": [
    {
     "data": {
      "text/plain": [
       "array([-1.43419540e-02,  6.29358538e-02,  1.09397667e-01,  3.36513479e-01,\n",
       "        4.35314363e-02,  3.94796965e-02,  2.05507886e-01,  1.24646291e-04,\n",
       "        1.11021465e-04, -2.76794637e-07,  5.19552546e-03,  1.93730123e-01,\n",
       "        4.51829459e-02])"
      ]
     },
     "execution_count": 230,
     "metadata": {},
     "output_type": "execute_result"
    }
   ],
   "source": [
    "#the regressors of each predictor variable  which determines the prediction\n",
    "reg.coef_"
   ]
  },
  {
   "cell_type": "code",
   "execution_count": 231,
   "id": "d1e91075",
   "metadata": {},
   "outputs": [
    {
     "data": {
      "text/plain": [
       "0.6505788258424097"
      ]
     },
     "execution_count": 231,
     "metadata": {},
     "output_type": "execute_result"
    }
   ],
   "source": [
    "#Rsquare value gives the fitness of the model with data(proportion of explained error over total error in prediction)\n",
    "reg.score(X_train_tranf,log_y)"
   ]
  },
  {
   "cell_type": "markdown",
   "id": "b22c1c1e",
   "metadata": {},
   "source": [
    "##### <U> MODEL VALIDATION"
   ]
  },
  {
   "cell_type": "code",
   "execution_count": null,
   "id": "088213da",
   "metadata": {},
   "outputs": [],
   "source": []
  },
  {
   "cell_type": "code",
   "execution_count": 232,
   "id": "ccaed933",
   "metadata": {},
   "outputs": [],
   "source": [
    "X_valid_tranf=X_valid.copy()"
   ]
  },
  {
   "cell_type": "code",
   "execution_count": 233,
   "id": "8dc547f5",
   "metadata": {},
   "outputs": [],
   "source": [
    "X_valid_tranf['age']=2022-X_valid_tranf['yr_built']"
   ]
  },
  {
   "cell_type": "code",
   "execution_count": 234,
   "id": "2c049b37",
   "metadata": {},
   "outputs": [],
   "source": [
    "X_valid_tranf=X_valid_tranf.drop(['yr_built'], axis=1)"
   ]
  },
  {
   "cell_type": "code",
   "execution_count": 235,
   "id": "031efcc4",
   "metadata": {},
   "outputs": [],
   "source": [
    "X_valid_tranf['basement_present'] = 0\n",
    "X_valid_tranf.loc[X_valid_tranf['sqft_basement'] >0, 'basement_present'] = 1"
   ]
  },
  {
   "cell_type": "code",
   "execution_count": 236,
   "id": "bd6826fa",
   "metadata": {},
   "outputs": [],
   "source": [
    "X_valid_tranf=X_valid_tranf.drop(['sqft_basement'], axis=1)"
   ]
  },
  {
   "cell_type": "code",
   "execution_count": 237,
   "id": "17b1acde",
   "metadata": {},
   "outputs": [],
   "source": [
    "X_valid_tranf['renovated'] = 0\n",
    "X_valid_tranf.loc[X_valid_tranf['yr_renovated'] >0, 'renovated'] = 1"
   ]
  },
  {
   "cell_type": "code",
   "execution_count": 238,
   "id": "d4dba002",
   "metadata": {},
   "outputs": [],
   "source": [
    "X_valid_tranf=X_valid_tranf.drop(['yr_renovated'], axis=1)"
   ]
  },
  {
   "cell_type": "code",
   "execution_count": 239,
   "id": "038c6943",
   "metadata": {},
   "outputs": [
    {
     "data": {
      "text/plain": [
       "Index(['bedrooms', 'bathrooms', 'floors', 'waterfront', 'view', 'condition',\n",
       "       'grade', 'sqft_above', 'sqft_living15', 'sqft_lot15', 'age',\n",
       "       'basement_present', 'renovated'],\n",
       "      dtype='object')"
      ]
     },
     "execution_count": 239,
     "metadata": {},
     "output_type": "execute_result"
    }
   ],
   "source": [
    "X_valid_tranf.columns"
   ]
  },
  {
   "cell_type": "code",
   "execution_count": 240,
   "id": "3f6493f6",
   "metadata": {},
   "outputs": [
    {
     "data": {
      "text/plain": [
       "Index(['bedrooms', 'bathrooms', 'floors', 'waterfront', 'view', 'condition',\n",
       "       'grade', 'sqft_above', 'sqft_living15', 'sqft_lot15', 'age',\n",
       "       'basement_present', 'renovated'],\n",
       "      dtype='object')"
      ]
     },
     "execution_count": 240,
     "metadata": {},
     "output_type": "execute_result"
    }
   ],
   "source": [
    "X_train_tranf.columns"
   ]
  },
  {
   "cell_type": "code",
   "execution_count": 241,
   "id": "3779d6c6",
   "metadata": {},
   "outputs": [
    {
     "data": {
      "text/plain": [
       "array([13.0095383 , 13.37160234, 12.73439763, ..., 12.89295788,\n",
       "       12.66368945, 13.00148767])"
      ]
     },
     "execution_count": 241,
     "metadata": {},
     "output_type": "execute_result"
    }
   ],
   "source": [
    "reg_pred = reg.predict(X_valid_tranf)\n",
    "reg_pred"
   ]
  },
  {
   "cell_type": "code",
   "execution_count": 116,
   "id": "6380ccd6",
   "metadata": {},
   "outputs": [],
   "source": []
  },
  {
   "cell_type": "code",
   "execution_count": 121,
   "id": "c2766be0",
   "metadata": {},
   "outputs": [],
   "source": []
  },
  {
   "cell_type": "code",
   "execution_count": 122,
   "id": "67b2ec8f",
   "metadata": {},
   "outputs": [
    {
     "data": {
      "text/plain": [
       "array([1.02220570e+13, 2.35289388e+13, 5.42497363e+12, ...,\n",
       "       7.81551998e+12, 4.60987822e+12, 1.00343136e+13])"
      ]
     },
     "execution_count": 122,
     "metadata": {},
     "output_type": "execute_result"
    }
   ],
   "source": [
    "np.exp(reg_pred)"
   ]
  },
  {
   "cell_type": "markdown",
   "id": "0022489d",
   "metadata": {},
   "source": [
    "##### <U> EVALUATING THE MODEL"
   ]
  },
  {
   "cell_type": "code",
   "execution_count": 242,
   "id": "39d85403",
   "metadata": {},
   "outputs": [
    {
     "data": {
      "text/plain": [
       "127512.4198142659"
      ]
     },
     "execution_count": 242,
     "metadata": {},
     "output_type": "execute_result"
    }
   ],
   "source": [
    "#MAE (mean absolute error)\n",
    "np.mean(np.abs(y_valid-np.exp(reg_pred)))"
   ]
  },
  {
   "cell_type": "code",
   "execution_count": 243,
   "id": "39ddecaa",
   "metadata": {},
   "outputs": [
    {
     "data": {
      "text/plain": [
       "37530738564.37034"
      ]
     },
     "execution_count": 243,
     "metadata": {},
     "output_type": "execute_result"
    }
   ],
   "source": [
    "#MSE\n",
    "np.mean((y_valid -np.exp(reg_pred))**2)"
   ]
  },
  {
   "cell_type": "code",
   "execution_count": 244,
   "id": "804bceeb",
   "metadata": {},
   "outputs": [
    {
     "data": {
      "text/plain": [
       "193728.51768485285"
      ]
     },
     "execution_count": 244,
     "metadata": {},
     "output_type": "execute_result"
    }
   ],
   "source": [
    "#RMSE\n",
    "np.sqrt(np.mean((y_valid-np.exp(reg_pred))**2))"
   ]
  },
  {
   "cell_type": "code",
   "execution_count": 245,
   "id": "09586356",
   "metadata": {},
   "outputs": [
    {
     "data": {
      "text/plain": [
       "25.205858832584365"
      ]
     },
     "execution_count": 245,
     "metadata": {},
     "output_type": "execute_result"
    }
   ],
   "source": [
    "#MAPE\n",
    "np.mean(np.abs(y_valid-np.exp(reg_pred))/y_valid)*100"
   ]
  },
  {
   "cell_type": "code",
   "execution_count": null,
   "id": "342106d0",
   "metadata": {},
   "outputs": [],
   "source": []
  }
 ],
 "metadata": {
  "kernelspec": {
   "display_name": "Python 3 (ipykernel)",
   "language": "python",
   "name": "python3"
  },
  "language_info": {
   "codemirror_mode": {
    "name": "ipython",
    "version": 3
   },
   "file_extension": ".py",
   "mimetype": "text/x-python",
   "name": "python",
   "nbconvert_exporter": "python",
   "pygments_lexer": "ipython3",
   "version": "3.9.16"
  }
 },
 "nbformat": 4,
 "nbformat_minor": 5
}
